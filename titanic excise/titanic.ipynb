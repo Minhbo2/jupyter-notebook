{
 "cells": [
  {
   "cell_type": "code",
   "execution_count": 2,
   "id": "739423ea-3e83-468b-bd69-733b60c40ff6",
   "metadata": {},
   "outputs": [],
   "source": [
    "import numpy as np\n",
    "import pandas as pd\n",
    "from pandas import Series, DataFrame"
   ]
  },
  {
   "cell_type": "code",
   "execution_count": 3,
   "id": "db86dc1e-b051-43c3-8298-d41a22b26769",
   "metadata": {},
   "outputs": [
    {
     "data": {
      "text/html": [
       "<div>\n",
       "<style scoped>\n",
       "    .dataframe tbody tr th:only-of-type {\n",
       "        vertical-align: middle;\n",
       "    }\n",
       "\n",
       "    .dataframe tbody tr th {\n",
       "        vertical-align: top;\n",
       "    }\n",
       "\n",
       "    .dataframe thead th {\n",
       "        text-align: right;\n",
       "    }\n",
       "</style>\n",
       "<table border=\"1\" class=\"dataframe\">\n",
       "  <thead>\n",
       "    <tr style=\"text-align: right;\">\n",
       "      <th></th>\n",
       "      <th>PassengerId</th>\n",
       "      <th>Survived</th>\n",
       "      <th>Pclass</th>\n",
       "      <th>Name</th>\n",
       "      <th>Sex</th>\n",
       "      <th>Age</th>\n",
       "      <th>SibSp</th>\n",
       "      <th>Parch</th>\n",
       "      <th>Ticket</th>\n",
       "      <th>Fare</th>\n",
       "      <th>Cabin</th>\n",
       "      <th>Embarked</th>\n",
       "    </tr>\n",
       "  </thead>\n",
       "  <tbody>\n",
       "    <tr>\n",
       "      <th>0</th>\n",
       "      <td>1</td>\n",
       "      <td>0</td>\n",
       "      <td>3</td>\n",
       "      <td>Braund, Mr. Owen Harris</td>\n",
       "      <td>male</td>\n",
       "      <td>22.0</td>\n",
       "      <td>1</td>\n",
       "      <td>0</td>\n",
       "      <td>A/5 21171</td>\n",
       "      <td>7.2500</td>\n",
       "      <td>NaN</td>\n",
       "      <td>S</td>\n",
       "    </tr>\n",
       "    <tr>\n",
       "      <th>1</th>\n",
       "      <td>2</td>\n",
       "      <td>1</td>\n",
       "      <td>1</td>\n",
       "      <td>Cumings, Mrs. John Bradley (Florence Briggs Th...</td>\n",
       "      <td>female</td>\n",
       "      <td>38.0</td>\n",
       "      <td>1</td>\n",
       "      <td>0</td>\n",
       "      <td>PC 17599</td>\n",
       "      <td>71.2833</td>\n",
       "      <td>C85</td>\n",
       "      <td>C</td>\n",
       "    </tr>\n",
       "    <tr>\n",
       "      <th>2</th>\n",
       "      <td>3</td>\n",
       "      <td>1</td>\n",
       "      <td>3</td>\n",
       "      <td>Heikkinen, Miss. Laina</td>\n",
       "      <td>female</td>\n",
       "      <td>26.0</td>\n",
       "      <td>0</td>\n",
       "      <td>0</td>\n",
       "      <td>STON/O2. 3101282</td>\n",
       "      <td>7.9250</td>\n",
       "      <td>NaN</td>\n",
       "      <td>S</td>\n",
       "    </tr>\n",
       "    <tr>\n",
       "      <th>3</th>\n",
       "      <td>4</td>\n",
       "      <td>1</td>\n",
       "      <td>1</td>\n",
       "      <td>Futrelle, Mrs. Jacques Heath (Lily May Peel)</td>\n",
       "      <td>female</td>\n",
       "      <td>35.0</td>\n",
       "      <td>1</td>\n",
       "      <td>0</td>\n",
       "      <td>113803</td>\n",
       "      <td>53.1000</td>\n",
       "      <td>C123</td>\n",
       "      <td>S</td>\n",
       "    </tr>\n",
       "    <tr>\n",
       "      <th>4</th>\n",
       "      <td>5</td>\n",
       "      <td>0</td>\n",
       "      <td>3</td>\n",
       "      <td>Allen, Mr. William Henry</td>\n",
       "      <td>male</td>\n",
       "      <td>35.0</td>\n",
       "      <td>0</td>\n",
       "      <td>0</td>\n",
       "      <td>373450</td>\n",
       "      <td>8.0500</td>\n",
       "      <td>NaN</td>\n",
       "      <td>S</td>\n",
       "    </tr>\n",
       "  </tbody>\n",
       "</table>\n",
       "</div>"
      ],
      "text/plain": [
       "   PassengerId  Survived  Pclass  \\\n",
       "0            1         0       3   \n",
       "1            2         1       1   \n",
       "2            3         1       3   \n",
       "3            4         1       1   \n",
       "4            5         0       3   \n",
       "\n",
       "                                                Name     Sex   Age  SibSp  \\\n",
       "0                            Braund, Mr. Owen Harris    male  22.0      1   \n",
       "1  Cumings, Mrs. John Bradley (Florence Briggs Th...  female  38.0      1   \n",
       "2                             Heikkinen, Miss. Laina  female  26.0      0   \n",
       "3       Futrelle, Mrs. Jacques Heath (Lily May Peel)  female  35.0      1   \n",
       "4                           Allen, Mr. William Henry    male  35.0      0   \n",
       "\n",
       "   Parch            Ticket     Fare Cabin Embarked  \n",
       "0      0         A/5 21171   7.2500   NaN        S  \n",
       "1      0          PC 17599  71.2833   C85        C  \n",
       "2      0  STON/O2. 3101282   7.9250   NaN        S  \n",
       "3      0            113803  53.1000  C123        S  \n",
       "4      0            373450   8.0500   NaN        S  "
      ]
     },
     "execution_count": 3,
     "metadata": {},
     "output_type": "execute_result"
    }
   ],
   "source": [
    "train_csv = pd.read_csv('train.csv',sep = ',')\n",
    "train_csv.head()"
   ]
  },
  {
   "cell_type": "code",
   "execution_count": 5,
   "id": "ef5cc463-8927-4ba6-9253-3f7d889a19f1",
   "metadata": {},
   "outputs": [
    {
     "data": {
      "text/plain": [
       "male      577\n",
       "female    314\n",
       "Name: Sex, dtype: int64"
      ]
     },
     "execution_count": 5,
     "metadata": {},
     "output_type": "execute_result"
    }
   ],
   "source": [
    "# count how many male/passenger there are\n",
    "group_by_sex = train_csv['Sex']\n",
    "sex_count = group_by_sex.value_counts()\n",
    "\n",
    "sex_count"
   ]
  },
  {
   "cell_type": "markdown",
   "id": "178d4ba8-af61-46cf-8f2d-e80dddaf0990",
   "metadata": {},
   "source": [
    "### how many male vs Female survived"
   ]
  },
  {
   "cell_type": "markdown",
   "id": "9176a95a-11a9-4789-a298-072047d02548",
   "metadata": {},
   "source": [
    "#### male survived"
   ]
  },
  {
   "cell_type": "code",
   "execution_count": 6,
   "id": "b2310566-0745-4276-950f-fe06361cde84",
   "metadata": {},
   "outputs": [],
   "source": [
    "idx1 = np.where((train_csv['Survived'] == 1) & (train_csv['Sex'] == 'male'))\n",
    "male_sur = train_csv.iloc[idx1]"
   ]
  },
  {
   "cell_type": "markdown",
   "id": "a35ff667-212c-4dda-a9dc-e42450dfe891",
   "metadata": {},
   "source": [
    "#### female survived"
   ]
  },
  {
   "cell_type": "code",
   "execution_count": 7,
   "id": "4dad1702-34c7-48d5-ac28-2c7a80bbf2e9",
   "metadata": {},
   "outputs": [],
   "source": [
    "idx2 = np.where((train_csv['Survived'] == 1) & (train_csv['Sex'] == 'female'))\n",
    "female_sur = train_csv.iloc[idx2]"
   ]
  },
  {
   "cell_type": "markdown",
   "id": "2c10edc9-17b2-40b7-8215-2b073caa2355",
   "metadata": {},
   "source": [
    "% of the gender survived"
   ]
  },
  {
   "cell_type": "code",
   "execution_count": 8,
   "id": "7ae1878f-0af9-41f4-9717-a129820bcc0d",
   "metadata": {},
   "outputs": [
    {
     "name": "stdout",
     "output_type": "stream",
     "text": [
      "male survived Perc: 18.89 and female survived Perc: 74.2\n"
     ]
    }
   ],
   "source": [
    "male_sur_perc = round((len(male_sur)/sex_count['male']) * 100, 2)\n",
    "female_sur_perc = round((len(female_sur)/sex_count['female']) * 100, 2)\n",
    "print('male survived Perc: {} and female survived Perc: {}'.format(male_sur_perc, female_sur_perc))"
   ]
  },
  {
   "cell_type": "code",
   "execution_count": 9,
   "id": "641a6166-d01e-4ed0-b395-e9251dfecfd6",
   "metadata": {},
   "outputs": [],
   "source": [
    "import matplotlib.pyplot as plt"
   ]
  },
  {
   "cell_type": "code",
   "execution_count": 10,
   "id": "10d3b774-6334-4522-b2bb-290e06f07f9b",
   "metadata": {},
   "outputs": [
    {
     "data": {
      "text/plain": [
       "male      109\n",
       "female    233\n",
       "dtype: int64"
      ]
     },
     "execution_count": 10,
     "metadata": {},
     "output_type": "execute_result"
    }
   ],
   "source": [
    "total_survived = pd.Series([len(male_sur), len(female_sur)], index = ['male','female'])\n",
    "total_survived.head()"
   ]
  },
  {
   "cell_type": "code",
   "execution_count": 11,
   "id": "bb3e97ce-eacb-43a7-986b-cd58ed384619",
   "metadata": {},
   "outputs": [
    {
     "data": {
      "text/plain": [
       "<AxesSubplot:xlabel='Sex', ylabel='Survivors Count'>"
      ]
     },
     "execution_count": 11,
     "metadata": {},
     "output_type": "execute_result"
    },
    {
     "data": {
      "image/png": "[encoded data removed]",
      "text/plain": [
       "<Figure size 432x288 with 1 Axes>"
      ]
     },
     "metadata": {
      "needs_background": "light"
     },
     "output_type": "display_data"
    }
   ],
   "source": [
    "# plot\n",
    "total_survived.plot(x = total_survived.index, kind = 'bar', xlabel = 'Sex', ylabel = 'Survivors Count')"
   ]
  },
  {
   "cell_type": "markdown",
   "id": "89d5a9c8-0c7c-471c-8e99-ab819d090270",
   "metadata": {},
   "source": [
    "#### female survivors base on class"
   ]
  },
  {
   "cell_type": "code",
   "execution_count": 28,
   "id": "56e95ce0-aa65-4ac0-affc-917c0218c8b6",
   "metadata": {},
   "outputs": [
    {
     "data": {
      "text/plain": [
       "1    91\n",
       "3    72\n",
       "2    70\n",
       "Name: Pclass, dtype: int64"
      ]
     },
     "execution_count": 28,
     "metadata": {},
     "output_type": "execute_result"
    }
   ],
   "source": [
    "f_sur_by_class = female_sur['Pclass'].value_counts()\n",
    "f_sur_by_class.sort_values(ascending = False)"
   ]
  },
  {
   "cell_type": "code",
   "execution_count": 37,
   "id": "0bbf7741-f3e2-4ffa-8e04-f88978254689",
   "metadata": {},
   "outputs": [
    {
     "data": {
      "text/plain": [
       "<AxesSubplot:xlabel='Passenger Class', ylabel='# of Survivors'>"
      ]
     },
     "execution_count": 37,
     "metadata": {},
     "output_type": "execute_result"
    },
    {
     "data": {
      "image/png": "[encoded data removed]",
      "text/plain": [
       "<Figure size 432x288 with 1 Axes>"
      ]
     },
     "metadata": {
      "needs_background": "light"
     },
     "output_type": "display_data"
    }
   ],
   "source": [
    "#  3 is first class, 1 is lowest\n",
    "f_sur_by_class.plot(\n",
    "    kind = 'bar',\n",
    "    xlabel = 'Passenger Class',\n",
    "    ylabel = '# of Survivors',\n",
    "    rot = 0\n",
    ")"
   ]
  },
  {
   "cell_type": "code",
   "execution_count": null,
   "id": "3991fae7-cee0-4794-92b3-811f39c6e6dc",
   "metadata": {},
   "outputs": [],
   "source": []
  }
 ],
 "metadata": {
  "kernelspec": {
   "display_name": "Python 3",
   "language": "python",
   "name": "python3"
  },
  "language_info": {
   "codemirror_mode": {
    "name": "ipython",
    "version": 3
   },
   "file_extension": ".py",
   "mimetype": "text/x-python",
   "name": "python",
   "nbconvert_exporter": "python",
   "pygments_lexer": "ipython3",
   "version": "3.8.8"
  }
 },
 "nbformat": 4,
 "nbformat_minor": 5
}
