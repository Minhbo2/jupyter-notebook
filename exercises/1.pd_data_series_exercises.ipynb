{
 "cells": [
  {
   "cell_type": "code",
   "execution_count": 1,
   "id": "e851ee2d-1550-4dc8-aaba-0a5a538e386d",
   "metadata": {},
   "outputs": [
    {
     "data": {
      "text/plain": [
       "True"
      ]
     },
     "execution_count": 1,
     "metadata": {},
     "output_type": "execute_result"
    }
   ],
   "source": [
    "import webbrowser as wb\n",
    "wb.open('https://www.w3resource.com/python-exercises/pandas/index.php#google_vignette')"
   ]
  },
  {
   "cell_type": "code",
   "execution_count": 2,
   "id": "c56640dd-3178-4820-9af3-06f0bafb0bcb",
   "metadata": {},
   "outputs": [],
   "source": [
    "import numpy as np\n",
    "import pandas as pd\n",
    "from pandas import Series, DataFrame"
   ]
  },
  {
   "cell_type": "code",
   "execution_count": 17,
   "id": "c4c02ea7-9ac3-48ed-b112-a7f0dc92a10e",
   "metadata": {},
   "outputs": [
    {
     "data": {
      "text/plain": [
       "0    0\n",
       "1    1\n",
       "2    2\n",
       "3    3\n",
       "4    4\n",
       "5    5\n",
       "6    6\n",
       "7    7\n",
       "8    8\n",
       "dtype: int32"
      ]
     },
     "execution_count": 17,
     "metadata": {},
     "output_type": "execute_result"
    }
   ],
   "source": [
    "# 1. Write a Pandas program to create and display a one-dimensional array-like object containing an array of data using Pandas module\n",
    "ser1 = Series(np.arange(9))\n",
    "ser1"
   ]
  },
  {
   "cell_type": "code",
   "execution_count": 15,
   "id": "00504c29-be91-4d69-8965-346d048b1067",
   "metadata": {},
   "outputs": [
    {
     "data": {
      "text/plain": [
       "[0, 1, 2, 3, 4, 5, 6, 7, 8]"
      ]
     },
     "execution_count": 15,
     "metadata": {},
     "output_type": "execute_result"
    }
   ],
   "source": [
    "# 2. Write a Pandas program to convert a Panda module Series to Python list and it's type\n",
    "list1 = ser1.tolist()\n",
    "list1"
   ]
  },
  {
   "cell_type": "code",
   "execution_count": 27,
   "id": "fc9f8e80-611e-4ee3-b0bb-c861899e415a",
   "metadata": {},
   "outputs": [
    {
     "data": {
      "text/plain": [
       "0    2.000000\n",
       "1    1.333333\n",
       "2    1.200000\n",
       "3    1.142857\n",
       "4    1.111111\n",
       "dtype: float64"
      ]
     },
     "execution_count": 27,
     "metadata": {},
     "output_type": "execute_result"
    }
   ],
   "source": [
    "# 3. Write a Pandas program to add, subtract, multiple and divide two Pandas Series. Sample Series: [2, 4, 6, 8, 10], [1, 3, 5, 7, 9]\n",
    "ser2 = Series([2, 4, 6, 8, 10])\n",
    "ser3 = Series([1, 3, 5, 7, 9])\n",
    "# ser2.add(ser3,fill_value=0) #done\n",
    "# ser2.sub(ser3,fill_value=0) #done\n",
    "# ser2.mul(ser3, fill_value=0) #done\n",
    "ser2.div(ser3)"
   ]
  },
  {
   "cell_type": "code",
   "execution_count": 32,
   "id": "0c618d6c-0b75-4b3e-aa81-8ffa64d21d06",
   "metadata": {},
   "outputs": [
    {
     "data": {
      "text/plain": [
       "0     True\n",
       "1     True\n",
       "2     True\n",
       "3     True\n",
       "4    False\n",
       "dtype: bool"
      ]
     },
     "execution_count": 32,
     "metadata": {},
     "output_type": "execute_result"
    }
   ],
   "source": [
    "# 4. Write a Pandas program to compare(==,<,> operations) the elements of the two Pandas Series. Sample Series: [2, 4, 6, 8, 10], [1, 3, 5, 7, 10]\n",
    "ser4 = Series([2, 4, 6, 8, 10])\n",
    "ser5 = Series([1, 3, 5, 7, 10])\n",
    "\n",
    "# ==\n",
    "ser4.equals(ser5)\n",
    "\n",
    "# <\n",
    "ser4.lt(ser5)\n",
    "\n",
    "# >\n",
    "ser4.gt(ser5)"
   ]
  },
  {
   "cell_type": "code",
   "execution_count": 34,
   "id": "40b5d2fb-3913-4ecf-bd8f-faeccae17e81",
   "metadata": {},
   "outputs": [
    {
     "data": {
      "text/plain": [
       "a    100\n",
       "b    200\n",
       "c    300\n",
       "d    400\n",
       "e    800\n",
       "dtype: int64"
      ]
     },
     "execution_count": 34,
     "metadata": {},
     "output_type": "execute_result"
    }
   ],
   "source": [
    "# 5. Write a Pandas program to convert a dictionary to a Pandas series. Original dictionary:{'a': 100, 'b': 200, 'c': 300, 'd': 400, 'e': 800}\n",
    "sample_dict = {'a': 100, 'b': 200, 'c': 300, 'd': 400, 'e': 800}\n",
    "\n",
    "Series(sample_dict)"
   ]
  },
  {
   "cell_type": "code",
   "execution_count": 39,
   "id": "6ceddb10-4ff7-4e2e-8f83-d4780cfa4a96",
   "metadata": {},
   "outputs": [
    {
     "data": {
      "text/plain": [
       "0    10\n",
       "1    20\n",
       "2    30\n",
       "3    40\n",
       "4    50\n",
       "dtype: int32"
      ]
     },
     "execution_count": 39,
     "metadata": {},
     "output_type": "execute_result"
    }
   ],
   "source": [
    "# 6. Write a Pandas program to convert a NumPy array to a Pandas series. [10 20 30 40 50]\n",
    "arr1 = np.array([10,20,30,40,50])\n",
    "ser6 = Series(arr1)\n",
    "ser6"
   ]
  },
  {
   "cell_type": "code",
   "execution_count": 46,
   "id": "aec87213-d7b1-460d-b1eb-13b8bcc47560",
   "metadata": {},
   "outputs": [
    {
     "data": {
      "text/plain": [
       "0    100.00\n",
       "1    200.00\n",
       "2       NaN\n",
       "3    300.12\n",
       "4    400.00\n",
       "dtype: float64"
      ]
     },
     "execution_count": 46,
     "metadata": {},
     "output_type": "execute_result"
    }
   ],
   "source": [
    "# 7. Write a Pandas program to change the data type of given a column or a Series. \n",
    "'''\n",
    "Original Data Series:\n",
    "0 100\n",
    "1 200\n",
    "2 python\n",
    "3 300.12\n",
    "4 400\n",
    "dtype: object\n",
    "Change the said data type to numeric:\n",
    "0 100.00\n",
    "1 200.00\n",
    "2 NaN\n",
    "3 300.12\n",
    "4 400.00\n",
    "dtype: float64\n",
    "'''\n",
    "ser7 = Series([100,200,'python',300.12,400])\n",
    "ser8 = pd.to_numeric(ser7,errors='coerce')\n",
    "ser8"
   ]
  },
  {
   "cell_type": "code",
   "execution_count": 59,
   "id": "855c48ac-5c1d-49f9-b22e-ca70f7235a73",
   "metadata": {},
   "outputs": [
    {
     "data": {
      "text/plain": [
       "0    0\n",
       "1    2\n",
       "2    4\n",
       "3    6\n",
       "4    8\n",
       "Name: col1, dtype: int32"
      ]
     },
     "execution_count": 59,
     "metadata": {},
     "output_type": "execute_result"
    }
   ],
   "source": [
    "# 8. Write a Pandas program to convert the first column of a DataFrame as a Series\n",
    "'''Original DataFrame\n",
    "col1 col2 col3\n",
    "0 1 4 7\n",
    "1 2 5 5\n",
    "2 3 6 8\n",
    "3 4 9 12\n",
    "4 7 5 1\n",
    "5 11 0 11\n",
    "1st column as a Series:\n",
    "0 1\n",
    "1 2\n",
    "2 3\n",
    "3 4\n",
    "4 7\n",
    "5 11\n",
    "Name: col1, dtype: int64\n",
    "<class 'pandas.core.series.Series'>\n",
    "'''\n",
    "# going rouge here, not gonna give exactly the same values\n",
    "dframe1 = DataFrame(np.arange(10).reshape(5,2), columns=['col1','col2'])\n",
    "ser9 = Series(dframe1['col1'])\n",
    "# or \n",
    "dframe1.iloc[:,0]\n",
    "\n",
    "# either method will work"
   ]
  },
  {
   "cell_type": "code",
   "execution_count": 70,
   "id": "e25d4965-4820-4700-aad3-0c2d90405701",
   "metadata": {},
   "outputs": [
    {
     "data": {
      "text/plain": [
       "array(['100', '200', 'python', '300.12', '400'], dtype='<U32')"
      ]
     },
     "execution_count": 70,
     "metadata": {},
     "output_type": "execute_result"
    }
   ],
   "source": [
    "'''\n",
    "9. Write a Pandas program to convert a given Series to an array.\n",
    "Sample Output:\n",
    "Original Data Series:\n",
    "0 100\n",
    "1 200\n",
    "2 python\n",
    "3 300.12\n",
    "4 400\n",
    "dtype: object\n",
    "Series to an array\n",
    "['100' '200' 'python' '300.12' '400']\n",
    "'''\n",
    "ser10 = Series([100,200,'python',300.12,400])\n",
    "arr3 = np.array(ser10.values.tolist())\n",
    "arr3"
   ]
  },
  {
   "cell_type": "code",
   "execution_count": 10,
   "id": "94b02ab5-2eee-4e02-a930-472e1f73e532",
   "metadata": {},
   "outputs": [
    {
     "data": {
      "text/plain": [
       "0       Red\n",
       "1     Green\n",
       "2     White\n",
       "3       Red\n",
       "4     Black\n",
       "5    Yellow\n",
       "dtype: object"
      ]
     },
     "execution_count": 10,
     "metadata": {},
     "output_type": "execute_result"
    }
   ],
   "source": [
    "'''\n",
    "10. Write a Pandas program to convert Series of lists to one Series\n",
    "Sample Output:\n",
    "Original Series of list\n",
    "0 [Red, Green, White]\n",
    "1 [Red, Black]\n",
    "2 [Yellow]\n",
    "dtype: object\n",
    "One Series\n",
    "0 Red\n",
    "1 Green\n",
    "2 White\n",
    "3 Red\n",
    "4 Black\n",
    "5 Yellow\n",
    "dtype: object\n",
    "'''\n",
    "ser11 = Series([['Red', 'Green', 'White'],['Red', 'Black'],['Yellow']])\n",
    "ser11\n",
    "ser11 = ser11.apply(Series).stack().reset_index(drop=True) # not entirely sure how this would work\n",
    "ser11"
   ]
  },
  {
   "cell_type": "code",
   "execution_count": 7,
   "id": "d7327f3b-7130-4c07-a08a-cbb5e37382c1",
   "metadata": {},
   "outputs": [
    {
     "data": {
      "text/plain": [
       "0       100\n",
       "1       200\n",
       "3    300.12\n",
       "4       400\n",
       "2    python\n",
       "dtype: object"
      ]
     },
     "execution_count": 7,
     "metadata": {},
     "output_type": "execute_result"
    }
   ],
   "source": [
    "'''\n",
    "11. Write a Pandas program to sort a given Series\n",
    "Sample Output:\n",
    "Original Data Series: 0 100\n",
    "1 200\n",
    "2 python\n",
    "3 300.12\n",
    "4 400\n",
    "dtype: object\n",
    "\n",
    "0 100\n",
    "1 200\n",
    "3 300.12\n",
    "4 400\n",
    "2 python\n",
    "dtype: object\n",
    "'''\n",
    "\n",
    "ser12 = Series([100,200,'python',300.12,400]).astype(str)\n",
    "ser12.sort_values()"
   ]
  },
  {
   "cell_type": "code",
   "execution_count": null,
   "id": "f7f6d46c-82bf-47ae-816d-e75c70a79593",
   "metadata": {},
   "outputs": [],
   "source": []
  },
  {
   "cell_type": "code",
   "execution_count": null,
   "id": "ce10cc4c-0a3e-4079-b36d-a28d621e1f19",
   "metadata": {},
   "outputs": [],
   "source": []
  },
  {
   "cell_type": "code",
   "execution_count": null,
   "id": "c670425c-13ae-4d5c-af93-c078d1897b78",
   "metadata": {},
   "outputs": [],
   "source": []
  },
  {
   "cell_type": "code",
   "execution_count": null,
   "id": "6afdea44-e23c-4b62-be6d-be6900fe1ac3",
   "metadata": {},
   "outputs": [],
   "source": []
  }
 ],
 "metadata": {
  "kernelspec": {
   "display_name": "Python 3",
   "language": "python",
   "name": "python3"
  },
  "language_info": {
   "codemirror_mode": {
    "name": "ipython",
    "version": 3
   },
   "file_extension": ".py",
   "mimetype": "text/x-python",
   "name": "python",
   "nbconvert_exporter": "python",
   "pygments_lexer": "ipython3",
   "version": "3.8.8"
  }
 },
 "nbformat": 4,
 "nbformat_minor": 5
}
