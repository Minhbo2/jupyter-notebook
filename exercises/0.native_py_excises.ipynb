{
 "cells": [
  {
   "cell_type": "code",
   "execution_count": null,
   "metadata": {},
   "outputs": [],
   "source": [
    "url = 'https://www.practicepython.org/'"
   ]
  },
  {
   "cell_type": "code",
   "execution_count": 1,
   "metadata": {},
   "outputs": [],
   "source": [
    "import random as rand\n",
    "import numpy as np\n",
    "import pandas as pd\n",
    "from pandas import DataFrame, Series"
   ]
  },
  {
   "cell_type": "code",
   "execution_count": 12,
   "metadata": {},
   "outputs": [
    {
     "data": {
      "text/plain": [
       "[1, 2, 3, 5, 8, 13]"
      ]
     },
     "execution_count": 12,
     "metadata": {},
     "output_type": "execute_result"
    }
   ],
   "source": [
    "\"\"\"\n",
    "Take two lists, say for example these two:\n",
    "\n",
    "  a = [1, 1, 2, 3, 5, 8, 13, 21, 34, 55, 89]\n",
    "  b = [1, 2, 3, 4, 5, 6, 7, 8, 9, 10, 11, 12, 13]\n",
    "and write a program that returns a list that contains only the elements that are common between the lists (without duplicates). Make sure your program works on two lists of different sizes.\n",
    "\n",
    "Extras:\n",
    "\n",
    "Randomly generate two lists to test this\n",
    "Write this in one line of Python (don’t worry if you can’t figure this out at this point - we’ll get to it soon)\n",
    "\"\"\"\n",
    "a = [1, 1, 2, 3, 5, 8, 13, 21, 34, 55, 89]\n",
    "b = [1, 2, 3, 4, 5, 6, 7, 8, 9, 10, 11, 12, 13]\n",
    "\n",
    "c = []\n",
    "for ele in a:\n",
    "    if ele in b and ele not in c:\n",
    "        c.append(ele)\n",
    "        \n",
    "c"
   ]
  },
  {
   "cell_type": "code",
   "execution_count": 19,
   "metadata": {},
   "outputs": [
    {
     "name": "stdin",
     "output_type": "stream",
     "text": [
      "Enter a palindrome string:  rnr\n"
     ]
    },
    {
     "name": "stdout",
     "output_type": "stream",
     "text": [
      "True\n"
     ]
    }
   ],
   "source": [
    "\"\"\"\n",
    "Ask the user for a string and print out whether this string is a palindrome or not. (A palindrome is a string that reads the same forwards and backwards.)\n",
    "\"\"\"\n",
    "user_input = input('Enter a palindrome string: ')\n",
    "\n",
    "def isPalindrome(string):\n",
    "    reverse_string = string[::-1] \n",
    "    for i in range(len(user_input)):\n",
    "        if user_input[i] != reverse_string[i]:\n",
    "            return False\n",
    "\n",
    "    return True\n",
    "\n",
    "print(isPalindrome(user_input))"
   ]
  },
  {
   "cell_type": "markdown",
   "metadata": {},
   "source": [
    "#### https://docs.python.org/release/2.3.5/whatsnew/section-slices.html\n",
    "#### extended slicing [start:stop:step], ex: [::-1] no specified starting and stop point, step = backward by 1"
   ]
  },
  {
   "cell_type": "code",
   "execution_count": 23,
   "metadata": {},
   "outputs": [
    {
     "name": "stdout",
     "output_type": "stream",
     "text": [
      "[4, 16, 36, 64, 100]\n"
     ]
    }
   ],
   "source": [
    "\"\"\"\n",
    "Let’s say I give you a list saved in a variable: a = [1, 4, 9, 16, 25, 36, 49, 64, 81, 100]. Write one line of Python that takes this list a and makes a new list that has only the even elements of this list in it.\n",
    "\"\"\"\n",
    "a = [1, 4, 9, 16, 25, 36, 49, 64, 81, 100]\n",
    "\n",
    "print([ele for ele in a if ele%2==0])"
   ]
  },
  {
   "cell_type": "code",
   "execution_count": 51,
   "metadata": {},
   "outputs": [
    {
     "name": "stdin",
     "output_type": "stream",
     "text": [
      "player 1 choose:  paper\n",
      "player 2 choose:  rock\n"
     ]
    },
    {
     "name": "stdout",
     "output_type": "stream",
     "text": [
      "Player 1 wins.\n"
     ]
    }
   ],
   "source": [
    "\"\"\"\n",
    "Make a two-player Rock-Paper-Scissors game. (Hint: Ask for player plays (using input), compare them, print out a message of congratulations to the winner, and ask if the players want to start a new game)\n",
    "\n",
    "Remember the rules:\n",
    "\n",
    "Rock beats scissors\n",
    "Scissors beats paper\n",
    "Paper beats rock\n",
    "\"\"\"\n",
    "\n",
    "items = {'rock': 1, 'paper': 2, 'scissor': 3}\n",
    "\n",
    "game_over = False\n",
    "count = 0\n",
    "\n",
    "while(not game_over):\n",
    "    player1 = input('player 1 choose: ')\n",
    "    player2 = input('player 2 choose: ')\n",
    "    \n",
    "    if(player1 == player2):\n",
    "        print('it\\'s a tie.')\n",
    "        continue;\n",
    "    \n",
    "    diff = items.get(player1) - items.get(player2)\n",
    "    if diff in [-2,1]:\n",
    "        print('Player 1 wins.')\n",
    "    elif diff in [-1, 2]:\n",
    "        print('Player 2 wins.')\n",
    "    \n",
    "    game_over = True"
   ]
  },
  {
   "cell_type": "code",
   "execution_count": 11,
   "metadata": {},
   "outputs": [
    {
     "name": "stdin",
     "output_type": "stream",
     "text": [
      "Guess a number from 1 to 9:  1\n"
     ]
    },
    {
     "name": "stdout",
     "output_type": "stream",
     "text": [
      "you win with 1 guesses.\n"
     ]
    },
    {
     "name": "stdin",
     "output_type": "stream",
     "text": [
      "Guess a number from 1 to 9:  0\n"
     ]
    },
    {
     "name": "stdout",
     "output_type": "stream",
     "text": [
      "too low.\n"
     ]
    },
    {
     "name": "stdin",
     "output_type": "stream",
     "text": [
      "Guess a number from 1 to 9:  5\n"
     ]
    },
    {
     "name": "stdout",
     "output_type": "stream",
     "text": [
      "you win with 2 guesses.\n"
     ]
    },
    {
     "name": "stdin",
     "output_type": "stream",
     "text": [
      "Guess a number from 1 to 9:  3\n"
     ]
    },
    {
     "name": "stdout",
     "output_type": "stream",
     "text": [
      "too low.\n"
     ]
    },
    {
     "name": "stdin",
     "output_type": "stream",
     "text": [
      "Guess a number from 1 to 9:  5\n"
     ]
    },
    {
     "name": "stdout",
     "output_type": "stream",
     "text": [
      "too low.\n"
     ]
    },
    {
     "name": "stdin",
     "output_type": "stream",
     "text": [
      "Guess a number from 1 to 9:  8\n"
     ]
    },
    {
     "name": "stdout",
     "output_type": "stream",
     "text": [
      "you win with 3 guesses.\n"
     ]
    },
    {
     "name": "stdin",
     "output_type": "stream",
     "text": [
      "Guess a number from 1 to 9:  exit\n"
     ]
    }
   ],
   "source": [
    "\"\"\"\n",
    "Generate a random number between 1 and 9 (including 1 and 9). Ask the user to guess the number, then tell them whether they guessed too low, too high, or exactly right. (Hint: remember to use the user input lessons from the very first exercise)\n",
    "\n",
    "Extras:\n",
    "\n",
    "Keep the game going until the user types “exit”\n",
    "Keep track of how many guesses the user has taken, and when the game ends, print this out.\n",
    "\"\"\"\n",
    "\n",
    "game_over  = False\n",
    "ran_num = rand.randrange(10)\n",
    "guess_counter = 0\n",
    "\n",
    "while not game_over:\n",
    "    guess = input('Guess a number from 1 to 9: ')\n",
    "    guess_counter += 1\n",
    "    game_over = guess in 'exit'\n",
    "    \n",
    "    if not guess.isnumeric():\n",
    "        continue\n",
    "    \n",
    "    player_guess = int(guess)\n",
    "    if player_guess < ran_num:\n",
    "        print(\"too low.\")\n",
    "    elif player_guess > ran_num:\n",
    "        print('too high.')\n",
    "    else:\n",
    "        print('you win with {} guesses.'.format(guess_counter))\n",
    "        # reset everything\n",
    "        guess_counter = 0\n",
    "        ran_num = rand.randrange(10)\n",
    "        "
   ]
  },
  {
   "cell_type": "code",
   "execution_count": 9,
   "metadata": {},
   "outputs": [
    {
     "data": {
      "text/plain": [
       "'3.6.9 (default, Jan 26 2021, 15:33:00) \\n[GCC 8.4.0]'"
      ]
     },
     "execution_count": 9,
     "metadata": {},
     "output_type": "execute_result"
    }
   ],
   "source": [
    "import sys\n",
    "sys.version"
   ]
  },
  {
   "cell_type": "code",
   "execution_count": 16,
   "metadata": {},
   "outputs": [
    {
     "name": "stdout",
     "output_type": "stream",
     "text": [
      "[5, 25]\n"
     ]
    }
   ],
   "source": [
    "\"\"\"\n",
    "Write a program that takes a list of numbers (for example, a = [5, 10, 15, 20, 25]) and makes a new list of only the first and last elements of the given list. For practice, write this code inside a function.\n",
    "\"\"\"\n",
    "a = [5, 10, 15, 20, 25]\n",
    "\n",
    "print([a[0], a[-1]])"
   ]
  },
  {
   "cell_type": "code",
   "execution_count": 20,
   "metadata": {},
   "outputs": [
    {
     "name": "stdin",
     "output_type": "stream",
     "text": [
      "write a sentence:  checking my car\n"
     ]
    },
    {
     "data": {
      "text/plain": [
       "'car my checking'"
      ]
     },
     "execution_count": 20,
     "metadata": {},
     "output_type": "execute_result"
    }
   ],
   "source": [
    "\"\"\"\n",
    "Write a program (using functions!) that asks the user for a long string containing multiple words. Print back to the user the same string, except with the words in backwards order. For example, say I type the string:\n",
    "\n",
    "  My name is Michele\n",
    "Then I would see the string:\n",
    "\n",
    "  Michele is name My\n",
    "shown back to me.\n",
    "\"\"\"\n",
    "user_input = input('write a sentence: ')\n",
    "string_arr = user_input.split()\n",
    "backward_string = ' '.join(string_arr[::-1])\n",
    "backward_string"
   ]
  },
  {
   "cell_type": "code",
   "execution_count": 30,
   "metadata": {},
   "outputs": [
    {
     "data": {
      "text/plain": [
       "{'alphabet': ['a', 'b', 'c', 'd'],\n",
       " 'number': [1, 2, 3, 4],\n",
       " 'sp_character': ['!', '@', '$', '&']}"
      ]
     },
     "execution_count": 30,
     "metadata": {},
     "output_type": "execute_result"
    }
   ],
   "source": [
    "\"\"\"\n",
    "Write a password generator in Python. Be creative with how you generate passwords - strong passwords have a mix of lowercase letters, uppercase letters, numbers, and symbols. \n",
    "The passwords should be random, generating a new password every time the user asks for a new password. Include your run-time code in a main method.\n",
    "\n",
    "Extra:\n",
    "\n",
    "Ask the user how strong they want their password to be. For weak passwords, pick a word or two from a list.\n",
    "\"\"\"\n",
    "import time\n",
    "start_time = time.time()\n",
    "\n",
    "my_dict = {\n",
    "    'alphabet': ['a','b','c','d'],\n",
    "    'number': [1,2,3,4],\n",
    "    'sp_character':['!','@','$','&'] \n",
    "}\n",
    "\n",
    "\n",
    "\n",
    "# print(time.time() - start_time)"
   ]
  },
  {
   "cell_type": "code",
   "execution_count": 4,
   "metadata": {},
   "outputs": [],
   "source": [
    "\"\"\"\n",
    "Use the BeautifulSoup and requests Python packages to print out a list of all the article titles on the New York Times homepage\" https://www.nytimes.com/\n",
    "\"\"\"\n",
    "import requests\n",
    "from bs4 import BeautifulSoup\n",
    "\n",
    "url = 'https://www.nytimes.com/'\n",
    "r = requests.get(url)\n",
    "\n",
    "soup = BeautifulSoup(r.content, 'html5lib')"
   ]
  },
  {
   "cell_type": "code",
   "execution_count": 24,
   "metadata": {},
   "outputs": [
    {
     "data": {
      "text/plain": [
       "['Amid Painful Year, Tearful Tributes Mark 20th Anniversary of 9/11',\n",
       " 'Photographers reflected on the images they captured on Sept. 11 and in the aftermath of the attacks.',\n",
       " 'Both President Biden and former President Bush used the anniversary of the Sept. 11 attacks to urge Americans to come together.',\n",
       " 'The newspaper of Sept. 11, 2001, is a document of America before the terror attacks and a memory of a vanished era.',\n",
       " 'Vaccine Resisters Seek Religious Exemptions. But What Counts as Religious?',\n",
       " 'Republicans Attack President Biden’s Vaccine Mandates',\n",
       " 'Schools have reopened, and families with young children are desperately seeking ways to get their kids vaccinated.',\n",
       " 'U.S. hot spots ›',\n",
       " 'Vaccinations ›',\n",
       " 'Global hot spots ›',\n",
       " 'Other trackers:\\n\\tChoose your own places to track',\n",
       " 'Other trackers:',\n",
       " 'Phony Diagnoses Hide High Rates of Drugging at Nursing Homes',\n",
       " 'Emma Raducanu Defeats Leylah Fernandez for U.S. Open Title',\n",
       " 'Novak Djokovic is one victory away from being the first man since 1969 to win a calendar-year Grand Slam.',\n",
       " 'Gavin Newsom’s Strategy for California Recall: It’s Me or the Abyss',\n",
       " 'California recall updates: What if Gavin Newsom resigned before the election?',\n",
       " 'The Weekender: Air Pollution Surges in Booming Utah',\n",
       " 'Did you follow the news this week? Take our quiz.',\n",
       " 'Venus Williams',\n",
       " 'The Thing That Has Really Made Me Tough',\n",
       " 'Ross Douthat',\n",
       " 'What Comes After the 9/11 Era?',\n",
       " 'Maureen Dowd',\n",
       " 'Manning Up, Letting Us Down',\n",
       " 'Michelle Goldberg',\n",
       " 'How 9/11 Turned America Into a Half-Crazed, Fading Power',\n",
       " 'The Editorial Board',\n",
       " 'Biden Is Right: Vaccine Refusal ‘Has Cost All of Us’',\n",
       " 'Spencer Ackerman',\n",
       " 'How Sept. 11 Gave Us Jan. 6',\n",
       " 'Toby Harnden',\n",
       " 'The Taliban Are Telling Us They Haven’t Changed at All',\n",
       " 'Paul Krugman',\n",
       " 'I’m Still on Team Transitory',\n",
       " 'Andrew Exum',\n",
       " 'The Afghan War Took an Awful Toll. I Would Still Serve Again.',\n",
       " 'John McWhorter',\n",
       " 'What Should We Do About Systemic Racism?',\n",
       " 'Lauren Markham',\n",
       " 'Stop Imprisoning People Who Seek Refuge in the U.S.',\n",
       " 'Peter Coy',\n",
       " 'Should Giving a Bribe Be Legal?',\n",
       " 'Jay S. Kaufman',\n",
       " 'America Is Sick. Science Alone Can’t Help It.',\n",
       " 'Kevin D. Williamson',\n",
       " 'The Trump Coup Is Still Raging',\n",
       " 'Divorce Stinks, but It Could Be Your Superpower',\n",
       " 'There’s Always Been More to Kirsten Dunst',\n",
       " 'Help! I Work With Covid Mary!',\n",
       " 'Advertisement',\n",
       " 'Listen to ‘The Daily’',\n",
       " 'Sign Up for Jane Coaston’s Newsletter',\n",
       " 'Listen to Articles From Around The Times',\n",
       " 'Virtual Event: Kara Swisher Live',\n",
       " 'A Nick to Apple’s Profits Could Be a Windfall for App Developers',\n",
       " 'As Democrats Push $3.5 Trillion Bill, Top Lawmaker Is Mum on Higher Taxes',\n",
       " 'Film Offers Fractured Israel Ominous Lessons From the Ancient Past',\n",
       " 'Cristiano Ronaldo Is Back and So Is Manchester United',\n",
       " 'Man With Assault Rifle Pleads Guilty to Threatening Pelosi',\n",
       " 'Teenage Participant in ‘Slender Man’ Stabbing to Be Released',\n",
       " 'Unearthed at British Golf Course: A Log Coffin From the Bronze Age',\n",
       " 'Extreme Weather Updates: Hurricane Larry to Bring Snow to Greenland',\n",
       " 'Abimael Guzmán, Who Led Group That Terrorized Peru, Dies',\n",
       " 'Oregon Upsets Ohio State, Keeping Pac-12 in Playoff Mix',\n",
       " 'Advertisement',\n",
       " 'A Hate Group Targeted My Kid Online',\n",
       " '6 Questions About Children and Covid, Answered',\n",
       " '‘What’s Going on With Our Black Girls?’ Experts Warn of Rising Suicide Rates.',\n",
       " 'Yes, and … Clean Your Room',\n",
       " 'Take the Weekly Health Quiz',\n",
       " 'Shooting ‘Scenes From a Marriage’: ‘I Cried Every Day’',\n",
       " 'Alice Neel’s Apartment Is Still a Portrait of the Artist at Work',\n",
       " 'Bomba Estéreo Strives to Save the Planet and Soothe the Heart',\n",
       " 'The Backyard Golf Course Can Be More Than a Dream',\n",
       " 'A Filmmaker Who Brings Order to Chaos',\n",
       " '53 Weekend Breakfast Ideas',\n",
       " 'Tuna-Macaroni Salad',\n",
       " 'Cold Noodles With Tomatoes',\n",
       " 'Msemen (Moroccan Flatbreads)',\n",
       " 'Grilled Mushrooms With Chive Butter',\n",
       " 'Advertisement',\n",
       " 'Consider the Bidet',\n",
       " 'The Best Cordless Stick Vacuums',\n",
       " 'Why Some Wirecutter Picks Have Bad Amazon Reviews',\n",
       " 'Learn More About Wirecutter',\n",
       " 'Spelling Bee',\n",
       " 'The Crossword',\n",
       " 'New York Times Games',\n",
       " 'Letter Boxed',\n",
       " 'Tiles',\n",
       " 'Vertex']"
      ]
     },
     "execution_count": 24,
     "metadata": {},
     "output_type": "execute_result"
    }
   ],
   "source": [
    "# table = soup.find('h3', attrs={'class': 'css-n4020u e1lsht870'})\n",
    "# print(soup.find('body').prettify())\n",
    "# print(soup.find('h3',attrs = {'class':'css-1bxzzgs e1lsht870'}).get_text())\n",
    "titles = [title.get_text() for title in soup.find_all('h3')] # find all title tags and extract the text\n",
    "titles"
   ]
  },
  {
   "cell_type": "code",
   "execution_count": null,
   "metadata": {},
   "outputs": [],
   "source": []
  }
 ],
 "metadata": {
  "kernelspec": {
   "display_name": "Python3.6",
   "language": "python",
   "name": "python3"
  },
  "language_info": {
   "codemirror_mode": {
    "name": "ipython",
    "version": 3
   },
   "file_extension": ".py",
   "mimetype": "text/x-python",
   "name": "python",
   "nbconvert_exporter": "python",
   "pygments_lexer": "ipython3",
   "version": "3.6.9"
  }
 },
 "nbformat": 4,
 "nbformat_minor": 5
}
