{
 "cells": [
  {
   "cell_type": "code",
   "execution_count": 15,
   "id": "b202e2d8-2c56-4665-8f1d-8f58d11c1151",
   "metadata": {},
   "outputs": [],
   "source": [
    "import pandas as pd\n",
    "from pandas import DataFrame, Series\n",
    "import numpy as np\n",
    "from numpy.random import randn\n",
    "# statistic lib\n",
    "from scipy import stats\n",
    "# plotting\n",
    "import matplotlib as mpl\n",
    "import matplotlib as plt\n",
    "from matplotlib import pyplot\n",
    "import seaborn as sns\n",
    "# command\n",
    "%matplotlib inline"
   ]
  },
  {
   "cell_type": "code",
   "execution_count": 3,
   "id": "72f7425d-5595-423e-a90e-1802b77f97e2",
   "metadata": {},
   "outputs": [],
   "source": [
    "dataset = randn(25)"
   ]
  },
  {
   "cell_type": "code",
   "execution_count": 11,
   "id": "0ace26e4-f977-4124-a6f7-ad903ee06e45",
   "metadata": {},
   "outputs": [
    {
     "data": {
      "text/plain": [
       "<AxesSubplot:>"
      ]
     },
     "execution_count": 11,
     "metadata": {},
     "output_type": "execute_result"
    },
    {
     "data": {
      "image/png": "[encoded data removed]",
      "text/plain": [
       "<Figure size 432x288 with 1 Axes>"
      ]
     },
     "metadata": {
      "needs_background": "light"
     },
     "output_type": "display_data"
    }
   ],
   "source": [
    "sns.rugplot(dataset)"
   ]
  },
  {
   "cell_type": "code",
   "execution_count": 18,
   "id": "ffa54751-2ed8-4cf4-8f49-8699a9e679bc",
   "metadata": {},
   "outputs": [
    {
     "data": {
      "image/png": "[encoded data removed]",
      "text/plain": [
       "<Figure size 432x288 with 1 Axes>"
      ]
     },
     "metadata": {
      "needs_background": "light"
     },
     "output_type": "display_data"
    }
   ],
   "source": [
    "plt.pyplot.hist(dataset,alpha = 0.3)\n",
    "sns.rugplot(data = dataset)\n",
    "plt.pyplot.grid()"
   ]
  },
  {
   "cell_type": "code",
   "execution_count": null,
   "id": "35f9989c-aef9-4a73-bb74-f7e05b164bea",
   "metadata": {},
   "outputs": [],
   "source": []
  },
  {
   "cell_type": "code",
   "execution_count": null,
   "id": "b51562b8-56f4-43a7-8f30-660c2950958a",
   "metadata": {},
   "outputs": [],
   "source": []
  },
  {
   "cell_type": "code",
   "execution_count": null,
   "id": "85e41cca-2ed9-4b7a-8621-2e92e2cc995c",
   "metadata": {},
   "outputs": [],
   "source": []
  },
  {
   "cell_type": "code",
   "execution_count": null,
   "id": "09daeea2-1c94-40aa-b2d3-1b87d0f490e1",
   "metadata": {},
   "outputs": [],
   "source": []
  },
  {
   "cell_type": "code",
   "execution_count": null,
   "id": "21866878-ec25-41eb-94cf-2e4f31b5ebf6",
   "metadata": {},
   "outputs": [],
   "source": []
  },
  {
   "cell_type": "code",
   "execution_count": null,
   "id": "0faa5b37-2d4a-4694-abc6-bd737037fb71",
   "metadata": {},
   "outputs": [],
   "source": []
  }
 ],
 "metadata": {
  "kernelspec": {
   "display_name": "Python 3",
   "language": "python",
   "name": "python3"
  },
  "language_info": {
   "codemirror_mode": {
    "name": "ipython",
    "version": 3
   },
   "file_extension": ".py",
   "mimetype": "text/x-python",
   "name": "python",
   "nbconvert_exporter": "python",
   "pygments_lexer": "ipython3",
   "version": "3.8.8"
  }
 },
 "nbformat": 4,
 "nbformat_minor": 5
}
