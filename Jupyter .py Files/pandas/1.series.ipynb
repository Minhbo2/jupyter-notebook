{
 "cells": [
  {
   "cell_type": "code",
   "execution_count": 1,
   "id": "9efd7892-715b-422c-aa08-56a1012d8414",
   "metadata": {},
   "outputs": [],
   "source": [
    "import numpy as np\n",
    "import pandas as pd\n",
    "from pandas import Series, DataFrame"
   ]
  },
  {
   "cell_type": "code",
   "execution_count": 3,
   "id": "0a4e7d81-48d4-47b7-bfd4-e70db025b9c0",
   "metadata": {},
   "outputs": [
    {
     "data": {
      "text/plain": [
       "0     3\n",
       "1     6\n",
       "2     9\n",
       "3    12\n",
       "dtype: int64"
      ]
     },
     "execution_count": 3,
     "metadata": {},
     "output_type": "execute_result"
    }
   ],
   "source": [
    "# Series is like an array in numpy but has index/label for each of its value\n",
    "obj = Series([3,6,9,12])\n",
    "\n",
    "obj"
   ]
  },
  {
   "cell_type": "code",
   "execution_count": 4,
   "id": "ffdba967-ddad-4cee-8922-4399baa59ebe",
   "metadata": {},
   "outputs": [
    {
     "data": {
      "text/plain": [
       "array([ 3,  6,  9, 12], dtype=int64)"
      ]
     },
     "execution_count": 4,
     "metadata": {},
     "output_type": "execute_result"
    }
   ],
   "source": [
    "obj.values"
   ]
  },
  {
   "cell_type": "code",
   "execution_count": 5,
   "id": "6f8136b7-ba0a-46d1-8364-4ef07e8a7c2b",
   "metadata": {},
   "outputs": [
    {
     "data": {
      "text/plain": [
       "RangeIndex(start=0, stop=4, step=1)"
      ]
     },
     "execution_count": 5,
     "metadata": {},
     "output_type": "execute_result"
    }
   ],
   "source": [
    "obj.index"
   ]
  },
  {
   "cell_type": "code",
   "execution_count": 6,
   "id": "8a656750-29ab-46fa-b38c-dbe1bff015da",
   "metadata": {},
   "outputs": [
    {
     "data": {
      "text/plain": [
       "USSR       8700000\n",
       "Germany    4300000\n",
       "China      2100000\n",
       "Japan       400000\n",
       "dtype: int64"
      ]
     },
     "execution_count": 6,
     "metadata": {},
     "output_type": "execute_result"
    }
   ],
   "source": [
    "# index labeling\n",
    "ww2_cas = Series([8700000,4300000,2100000,400000],index=['USSR','Germany','China','Japan'])\n",
    "\n",
    "ww2_cas"
   ]
  },
  {
   "cell_type": "code",
   "execution_count": 7,
   "id": "a5d8c75a-df3c-40b5-96f2-605f2edb4762",
   "metadata": {},
   "outputs": [
    {
     "data": {
      "text/plain": [
       "400000"
      ]
     },
     "execution_count": 7,
     "metadata": {},
     "output_type": "execute_result"
    }
   ],
   "source": [
    "ww2_cas['Japan']"
   ]
  },
  {
   "cell_type": "code",
   "execution_count": 8,
   "id": "fd9c0f0d-4aaa-45c2-b728-684ac764ac12",
   "metadata": {},
   "outputs": [
    {
     "data": {
      "text/plain": [
       "USSR       8700000\n",
       "Germany    4300000\n",
       "dtype: int64"
      ]
     },
     "execution_count": 8,
     "metadata": {},
     "output_type": "execute_result"
    }
   ],
   "source": [
    "# check which country > 40000000\n",
    "ww2_cas[ww2_cas > 4000000]"
   ]
  },
  {
   "cell_type": "code",
   "execution_count": 9,
   "id": "7aad7c5c-77a3-4e88-a859-4d6246300368",
   "metadata": {},
   "outputs": [
    {
     "data": {
      "text/plain": [
       "True"
      ]
     },
     "execution_count": 9,
     "metadata": {},
     "output_type": "execute_result"
    }
   ],
   "source": [
    "# check if an index is in Series\n",
    "'USSR' in ww2_cas"
   ]
  },
  {
   "cell_type": "code",
   "execution_count": 10,
   "id": "a0f1d608-30a1-4ffb-9f3c-b66bf4812de9",
   "metadata": {},
   "outputs": [
    {
     "data": {
      "text/plain": [
       "{'USSR': 8700000, 'Germany': 4300000, 'China': 2100000, 'Japan': 400000}"
      ]
     },
     "execution_count": 10,
     "metadata": {},
     "output_type": "execute_result"
    }
   ],
   "source": [
    "# converting a Series into dictionary\n",
    "ww2_dict = ww2_cas.to_dict()\n",
    "ww2_dict"
   ]
  },
  {
   "cell_type": "code",
   "execution_count": 11,
   "id": "8b76858e-d842-4e0f-8a39-332bdbceea62",
   "metadata": {},
   "outputs": [
    {
     "data": {
      "text/plain": [
       "USSR       8700000\n",
       "Germany    4300000\n",
       "China      2100000\n",
       "Japan       400000\n",
       "dtype: int64"
      ]
     },
     "execution_count": 11,
     "metadata": {},
     "output_type": "execute_result"
    }
   ],
   "source": [
    "# converting dictionary into Series\n",
    "ww2_series = Series(ww2_dict)\n",
    "ww2_series"
   ]
  },
  {
   "cell_type": "code",
   "execution_count": 12,
   "id": "fcae17b3-b0ca-44a2-8785-70d3de6b7f4d",
   "metadata": {},
   "outputs": [],
   "source": [
    "countries = ['China','Germany','Japan','USA','USSR']"
   ]
  },
  {
   "cell_type": "code",
   "execution_count": 13,
   "id": "c8706c19-2dd5-4f8f-b8af-81ae9dadb42d",
   "metadata": {},
   "outputs": [
    {
     "data": {
      "text/plain": [
       "China      2100000.0\n",
       "Germany    4300000.0\n",
       "Japan       400000.0\n",
       "USA              NaN\n",
       "USSR       8700000.0\n",
       "dtype: float64"
      ]
     },
     "execution_count": 13,
     "metadata": {},
     "output_type": "execute_result"
    }
   ],
   "source": [
    "# since USA was not in the original dictionary, pandas gives it a null value\n",
    "obj2 = Series(ww2_dict,index=countries)\n",
    "obj2"
   ]
  },
  {
   "cell_type": "code",
   "execution_count": 14,
   "id": "5ab874de-d169-43f5-a1bd-96753bf774d3",
   "metadata": {},
   "outputs": [
    {
     "data": {
      "text/plain": [
       "China      False\n",
       "Germany    False\n",
       "Japan      False\n",
       "USA         True\n",
       "USSR       False\n",
       "dtype: bool"
      ]
     },
     "execution_count": 14,
     "metadata": {},
     "output_type": "execute_result"
    }
   ],
   "source": [
    "# check for null indexes\n",
    "pd.isnull(obj2)"
   ]
  },
  {
   "cell_type": "code",
   "execution_count": 15,
   "id": "c492f7f2-0a52-44d1-b048-4e661cbc5c43",
   "metadata": {},
   "outputs": [
    {
     "data": {
      "text/plain": [
       "China       True\n",
       "Germany     True\n",
       "Japan       True\n",
       "USA        False\n",
       "USSR        True\n",
       "dtype: bool"
      ]
     },
     "execution_count": 15,
     "metadata": {},
     "output_type": "execute_result"
    }
   ],
   "source": [
    "# check for not null indexes\n",
    "pd.notnull(obj2)"
   ]
  },
  {
   "cell_type": "code",
   "execution_count": 16,
   "id": "5ed044a3-a4a9-4193-83b5-8117fefb1afa",
   "metadata": {},
   "outputs": [
    {
     "data": {
      "text/plain": [
       "China       4200000.0\n",
       "Germany     8600000.0\n",
       "Japan        800000.0\n",
       "USA               NaN\n",
       "USSR       17400000.0\n",
       "dtype: float64"
      ]
     },
     "execution_count": 16,
     "metadata": {},
     "output_type": "execute_result"
    }
   ],
   "source": [
    "# add Series to Series/object to object, values are added up by indexes\n",
    "ww2_series + obj2"
   ]
  },
  {
   "cell_type": "code",
   "execution_count": 17,
   "id": "5211ff30-d3a1-4063-aa64-10aa0ce9a77f",
   "metadata": {},
   "outputs": [
    {
     "data": {
      "text/plain": [
       "China      2100000.0\n",
       "Germany    4300000.0\n",
       "Japan       400000.0\n",
       "USA              NaN\n",
       "USSR       8700000.0\n",
       "Name: World War 2 Casualties, dtype: float64"
      ]
     },
     "execution_count": 17,
     "metadata": {},
     "output_type": "execute_result"
    }
   ],
   "source": [
    "# giving a Seies/object a name\n",
    "obj2.name = 'World War 2 Casualties'\n",
    "obj2"
   ]
  },
  {
   "cell_type": "code",
   "execution_count": 18,
   "id": "f4707a9d-b32f-432c-9861-d84765f9ec1b",
   "metadata": {},
   "outputs": [
    {
     "data": {
      "text/plain": [
       "contries\n",
       "China      2100000.0\n",
       "Germany    4300000.0\n",
       "Japan       400000.0\n",
       "USA              NaN\n",
       "USSR       8700000.0\n",
       "Name: World War 2 Casualties, dtype: float64"
      ]
     },
     "execution_count": 18,
     "metadata": {},
     "output_type": "execute_result"
    }
   ],
   "source": [
    "# labeling name for the index\n",
    "# this is kinda like a spreadsheet, for column header/name\n",
    "obj2.index.name = 'contries'\n",
    "obj2"
   ]
  }
 ],
 "metadata": {
  "kernelspec": {
   "display_name": "Python 3",
   "language": "python",
   "name": "python3"
  },
  "language_info": {
   "codemirror_mode": {
    "name": "ipython",
    "version": 3
   },
   "file_extension": ".py",
   "mimetype": "text/x-python",
   "name": "python",
   "nbconvert_exporter": "python",
   "pygments_lexer": "ipython3",
   "version": "3.8.8"
  }
 },
 "nbformat": 4,
 "nbformat_minor": 5
}
