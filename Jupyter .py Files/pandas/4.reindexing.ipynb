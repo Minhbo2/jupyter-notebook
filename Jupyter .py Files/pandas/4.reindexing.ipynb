{
 "cells": [
  {
   "cell_type": "code",
   "execution_count": 2,
   "id": "75281974-b491-4ee0-b0a5-5c68f97d5dcc",
   "metadata": {},
   "outputs": [],
   "source": [
    "import numpy as np\n",
    "import pandas as pd\n",
    "from pandas import Series, DataFrame\n",
    "\n",
    "from numpy.random import randn"
   ]
  },
  {
   "cell_type": "code",
   "execution_count": 2,
   "id": "ab4dcbac-28f6-450e-a9c9-91c8f8cc89a9",
   "metadata": {},
   "outputs": [
    {
     "data": {
      "text/plain": [
       "A    1\n",
       "B    2\n",
       "C    3\n",
       "D    4\n",
       "dtype: int64"
      ]
     },
     "execution_count": 2,
     "metadata": {},
     "output_type": "execute_result"
    }
   ],
   "source": [
    "ser1 = Series([1,2,3,4], index = ['A','B','C','D'])\n",
    "ser1"
   ]
  },
  {
   "cell_type": "code",
   "execution_count": 3,
   "id": "f6217851-82cd-4faf-b994-2c13a767e551",
   "metadata": {},
   "outputs": [
    {
     "data": {
      "text/plain": [
       "A    1.0\n",
       "B    2.0\n",
       "C    3.0\n",
       "D    4.0\n",
       "E    NaN\n",
       "F    NaN\n",
       "dtype: float64"
      ]
     },
     "execution_count": 3,
     "metadata": {},
     "output_type": "execute_result"
    }
   ],
   "source": [
    "# reindexing the series above, new index will have null value if not assign\n",
    "ser2 = ser1.reindex(['A','B','C','D','E','F'])\n",
    "ser2"
   ]
  },
  {
   "cell_type": "code",
   "execution_count": 4,
   "id": "b508d9fb-ab6b-45e2-a9b5-b27522b3c6e3",
   "metadata": {},
   "outputs": [
    {
     "data": {
      "text/plain": [
       "A    1.0\n",
       "B    2.0\n",
       "C    3.0\n",
       "D    4.0\n",
       "E    NaN\n",
       "F    NaN\n",
       "G    0.0\n",
       "dtype: float64"
      ]
     },
     "execution_count": 4,
     "metadata": {},
     "output_type": "execute_result"
    }
   ],
   "source": [
    "# filling in values for new indexes\n",
    "ser2.reindex(['A','B','C','D','E','F','G'], fill_value=0)"
   ]
  },
  {
   "cell_type": "code",
   "execution_count": 5,
   "id": "6ac76aa1-fedb-44f3-ac11-1e7ade11128b",
   "metadata": {},
   "outputs": [
    {
     "data": {
      "text/plain": [
       "0     Mexico\n",
       "5        USA\n",
       "10    Canada\n",
       "dtype: object"
      ]
     },
     "execution_count": 5,
     "metadata": {},
     "output_type": "execute_result"
    }
   ],
   "source": [
    "ser3 = Series(['Mexico','USA','Canada'],index=[0,5,10])\n",
    "ser3"
   ]
  },
  {
   "cell_type": "code",
   "execution_count": 6,
   "id": "37cfa691-cc56-418d-8840-90ce83525b2c",
   "metadata": {},
   "outputs": [
    {
     "data": {
      "text/plain": [
       "[0, 1, 2, 3, 4, 5, 6, 7, 8, 9, 10, 11, 12, 13, 14]"
      ]
     },
     "execution_count": 6,
     "metadata": {},
     "output_type": "execute_result"
    }
   ],
   "source": [
    "# reindexing 0-14\n",
    "ranger = list(range(15))\n",
    "ranger"
   ]
  },
  {
   "cell_type": "code",
   "execution_count": 9,
   "id": "fa270e0f-2309-42de-880b-3b7c672d1dfb",
   "metadata": {},
   "outputs": [
    {
     "data": {
      "text/plain": [
       "0     Mexico\n",
       "1     Mexico\n",
       "2     Mexico\n",
       "3     Mexico\n",
       "4     Mexico\n",
       "5        USA\n",
       "6        USA\n",
       "7        USA\n",
       "8        USA\n",
       "9        USA\n",
       "10    Canada\n",
       "11    Canada\n",
       "12    Canada\n",
       "13    Canada\n",
       "14    Canada\n",
       "dtype: object"
      ]
     },
     "execution_count": 9,
     "metadata": {},
     "output_type": "execute_result"
    }
   ],
   "source": [
    "# forward fill the next 4 indexes with previous value\n",
    "ranger\n",
    "ser4 = ser3.reindex(ranger,method='ffill')\n",
    "ser4"
   ]
  },
  {
   "cell_type": "code",
   "execution_count": 3,
   "id": "df8e8789-724d-4615-80ea-2345de3c0954",
   "metadata": {},
   "outputs": [
    {
     "data": {
      "text/html": [
       "<div>\n",
       "<style scoped>\n",
       "    .dataframe tbody tr th:only-of-type {\n",
       "        vertical-align: middle;\n",
       "    }\n",
       "\n",
       "    .dataframe tbody tr th {\n",
       "        vertical-align: top;\n",
       "    }\n",
       "\n",
       "    .dataframe thead th {\n",
       "        text-align: right;\n",
       "    }\n",
       "</style>\n",
       "<table border=\"1\" class=\"dataframe\">\n",
       "  <thead>\n",
       "    <tr style=\"text-align: right;\">\n",
       "      <th></th>\n",
       "      <th>col1</th>\n",
       "      <th>col2</th>\n",
       "      <th>col3</th>\n",
       "      <th>col4</th>\n",
       "      <th>col5</th>\n",
       "    </tr>\n",
       "  </thead>\n",
       "  <tbody>\n",
       "    <tr>\n",
       "      <th>A</th>\n",
       "      <td>-0.848435</td>\n",
       "      <td>0.098279</td>\n",
       "      <td>-1.612738</td>\n",
       "      <td>-0.139625</td>\n",
       "      <td>1.128534</td>\n",
       "    </tr>\n",
       "    <tr>\n",
       "      <th>B</th>\n",
       "      <td>1.260141</td>\n",
       "      <td>-1.170567</td>\n",
       "      <td>0.734517</td>\n",
       "      <td>0.727376</td>\n",
       "      <td>1.110049</td>\n",
       "    </tr>\n",
       "    <tr>\n",
       "      <th>D</th>\n",
       "      <td>1.598449</td>\n",
       "      <td>-0.595435</td>\n",
       "      <td>0.386497</td>\n",
       "      <td>0.004515</td>\n",
       "      <td>-0.725408</td>\n",
       "    </tr>\n",
       "    <tr>\n",
       "      <th>E</th>\n",
       "      <td>-0.187610</td>\n",
       "      <td>-0.480998</td>\n",
       "      <td>0.032021</td>\n",
       "      <td>0.344191</td>\n",
       "      <td>0.009113</td>\n",
       "    </tr>\n",
       "    <tr>\n",
       "      <th>F</th>\n",
       "      <td>-2.473886</td>\n",
       "      <td>0.493926</td>\n",
       "      <td>-0.476400</td>\n",
       "      <td>-0.143545</td>\n",
       "      <td>1.636465</td>\n",
       "    </tr>\n",
       "  </tbody>\n",
       "</table>\n",
       "</div>"
      ],
      "text/plain": [
       "       col1      col2      col3      col4      col5\n",
       "A -0.848435  0.098279 -1.612738 -0.139625  1.128534\n",
       "B  1.260141 -1.170567  0.734517  0.727376  1.110049\n",
       "D  1.598449 -0.595435  0.386497  0.004515 -0.725408\n",
       "E -0.187610 -0.480998  0.032021  0.344191  0.009113\n",
       "F -2.473886  0.493926 -0.476400 -0.143545  1.636465"
      ]
     },
     "execution_count": 3,
     "metadata": {},
     "output_type": "execute_result"
    }
   ],
   "source": [
    "# creating a data frame, not adding C index on purpose\n",
    "dframe = DataFrame(randn(25).reshape(5,5),index=['A','B','D','E','F'], columns=['col1','col2','col3','col4','col5'])\n",
    "dframe"
   ]
  },
  {
   "cell_type": "code",
   "execution_count": 4,
   "id": "f7ecdab3-4261-4f3e-958c-e3a1bc0a1016",
   "metadata": {},
   "outputs": [
    {
     "data": {
      "text/html": [
       "<div>\n",
       "<style scoped>\n",
       "    .dataframe tbody tr th:only-of-type {\n",
       "        vertical-align: middle;\n",
       "    }\n",
       "\n",
       "    .dataframe tbody tr th {\n",
       "        vertical-align: top;\n",
       "    }\n",
       "\n",
       "    .dataframe thead th {\n",
       "        text-align: right;\n",
       "    }\n",
       "</style>\n",
       "<table border=\"1\" class=\"dataframe\">\n",
       "  <thead>\n",
       "    <tr style=\"text-align: right;\">\n",
       "      <th></th>\n",
       "      <th>col1</th>\n",
       "      <th>col2</th>\n",
       "      <th>col3</th>\n",
       "      <th>col4</th>\n",
       "      <th>col5</th>\n",
       "    </tr>\n",
       "  </thead>\n",
       "  <tbody>\n",
       "    <tr>\n",
       "      <th>A</th>\n",
       "      <td>-0.848435</td>\n",
       "      <td>0.098279</td>\n",
       "      <td>-1.612738</td>\n",
       "      <td>-0.139625</td>\n",
       "      <td>1.128534</td>\n",
       "    </tr>\n",
       "    <tr>\n",
       "      <th>B</th>\n",
       "      <td>1.260141</td>\n",
       "      <td>-1.170567</td>\n",
       "      <td>0.734517</td>\n",
       "      <td>0.727376</td>\n",
       "      <td>1.110049</td>\n",
       "    </tr>\n",
       "    <tr>\n",
       "      <th>D</th>\n",
       "      <td>1.598449</td>\n",
       "      <td>-0.595435</td>\n",
       "      <td>0.386497</td>\n",
       "      <td>0.004515</td>\n",
       "      <td>-0.725408</td>\n",
       "    </tr>\n",
       "    <tr>\n",
       "      <th>C</th>\n",
       "      <td>NaN</td>\n",
       "      <td>NaN</td>\n",
       "      <td>NaN</td>\n",
       "      <td>NaN</td>\n",
       "      <td>NaN</td>\n",
       "    </tr>\n",
       "    <tr>\n",
       "      <th>E</th>\n",
       "      <td>-0.187610</td>\n",
       "      <td>-0.480998</td>\n",
       "      <td>0.032021</td>\n",
       "      <td>0.344191</td>\n",
       "      <td>0.009113</td>\n",
       "    </tr>\n",
       "    <tr>\n",
       "      <th>F</th>\n",
       "      <td>-2.473886</td>\n",
       "      <td>0.493926</td>\n",
       "      <td>-0.476400</td>\n",
       "      <td>-0.143545</td>\n",
       "      <td>1.636465</td>\n",
       "    </tr>\n",
       "  </tbody>\n",
       "</table>\n",
       "</div>"
      ],
      "text/plain": [
       "       col1      col2      col3      col4      col5\n",
       "A -0.848435  0.098279 -1.612738 -0.139625  1.128534\n",
       "B  1.260141 -1.170567  0.734517  0.727376  1.110049\n",
       "D  1.598449 -0.595435  0.386497  0.004515 -0.725408\n",
       "C       NaN       NaN       NaN       NaN       NaN\n",
       "E -0.187610 -0.480998  0.032021  0.344191  0.009113\n",
       "F -2.473886  0.493926 -0.476400 -0.143545  1.636465"
      ]
     },
     "execution_count": 4,
     "metadata": {},
     "output_type": "execute_result"
    }
   ],
   "source": [
    "# reindexing the data frame with new row\n",
    "dframe2 = dframe.reindex(['A','B','D','C','E','F'])\n",
    "dframe2"
   ]
  },
  {
   "cell_type": "code",
   "execution_count": 6,
   "id": "31543d07-8626-435f-9840-2c4473114d86",
   "metadata": {},
   "outputs": [
    {
     "data": {
      "text/html": [
       "<div>\n",
       "<style scoped>\n",
       "    .dataframe tbody tr th:only-of-type {\n",
       "        vertical-align: middle;\n",
       "    }\n",
       "\n",
       "    .dataframe tbody tr th {\n",
       "        vertical-align: top;\n",
       "    }\n",
       "\n",
       "    .dataframe thead th {\n",
       "        text-align: right;\n",
       "    }\n",
       "</style>\n",
       "<table border=\"1\" class=\"dataframe\">\n",
       "  <thead>\n",
       "    <tr style=\"text-align: right;\">\n",
       "      <th></th>\n",
       "      <th>col1</th>\n",
       "      <th>col2</th>\n",
       "      <th>col3</th>\n",
       "      <th>col4</th>\n",
       "      <th>col5</th>\n",
       "      <th>col6</th>\n",
       "    </tr>\n",
       "  </thead>\n",
       "  <tbody>\n",
       "    <tr>\n",
       "      <th>A</th>\n",
       "      <td>-0.848435</td>\n",
       "      <td>0.098279</td>\n",
       "      <td>-1.612738</td>\n",
       "      <td>-0.139625</td>\n",
       "      <td>1.128534</td>\n",
       "      <td>NaN</td>\n",
       "    </tr>\n",
       "    <tr>\n",
       "      <th>B</th>\n",
       "      <td>1.260141</td>\n",
       "      <td>-1.170567</td>\n",
       "      <td>0.734517</td>\n",
       "      <td>0.727376</td>\n",
       "      <td>1.110049</td>\n",
       "      <td>NaN</td>\n",
       "    </tr>\n",
       "    <tr>\n",
       "      <th>D</th>\n",
       "      <td>1.598449</td>\n",
       "      <td>-0.595435</td>\n",
       "      <td>0.386497</td>\n",
       "      <td>0.004515</td>\n",
       "      <td>-0.725408</td>\n",
       "      <td>NaN</td>\n",
       "    </tr>\n",
       "    <tr>\n",
       "      <th>C</th>\n",
       "      <td>NaN</td>\n",
       "      <td>NaN</td>\n",
       "      <td>NaN</td>\n",
       "      <td>NaN</td>\n",
       "      <td>NaN</td>\n",
       "      <td>NaN</td>\n",
       "    </tr>\n",
       "    <tr>\n",
       "      <th>E</th>\n",
       "      <td>-0.187610</td>\n",
       "      <td>-0.480998</td>\n",
       "      <td>0.032021</td>\n",
       "      <td>0.344191</td>\n",
       "      <td>0.009113</td>\n",
       "      <td>NaN</td>\n",
       "    </tr>\n",
       "    <tr>\n",
       "      <th>F</th>\n",
       "      <td>-2.473886</td>\n",
       "      <td>0.493926</td>\n",
       "      <td>-0.476400</td>\n",
       "      <td>-0.143545</td>\n",
       "      <td>1.636465</td>\n",
       "      <td>NaN</td>\n",
       "    </tr>\n",
       "  </tbody>\n",
       "</table>\n",
       "</div>"
      ],
      "text/plain": [
       "       col1      col2      col3      col4      col5  col6\n",
       "A -0.848435  0.098279 -1.612738 -0.139625  1.128534   NaN\n",
       "B  1.260141 -1.170567  0.734517  0.727376  1.110049   NaN\n",
       "D  1.598449 -0.595435  0.386497  0.004515 -0.725408   NaN\n",
       "C       NaN       NaN       NaN       NaN       NaN   NaN\n",
       "E -0.187610 -0.480998  0.032021  0.344191  0.009113   NaN\n",
       "F -2.473886  0.493926 -0.476400 -0.143545  1.636465   NaN"
      ]
     },
     "execution_count": 6,
     "metadata": {},
     "output_type": "execute_result"
    }
   ],
   "source": [
    "# adding new a column\n",
    "new_columns = ['col1','col2','col3','col4','col5', 'col6']\n",
    "dframe2.reindex(columns=new_columns)"
   ]
  },
  {
   "cell_type": "code",
   "execution_count": 27,
   "id": "ed3ff814-5867-4f12-a77a-90ce9696289c",
   "metadata": {},
   "outputs": [
    {
     "data": {
      "text/html": [
       "<div>\n",
       "<style scoped>\n",
       "    .dataframe tbody tr th:only-of-type {\n",
       "        vertical-align: middle;\n",
       "    }\n",
       "\n",
       "    .dataframe tbody tr th {\n",
       "        vertical-align: top;\n",
       "    }\n",
       "\n",
       "    .dataframe thead th {\n",
       "        text-align: right;\n",
       "    }\n",
       "</style>\n",
       "<table border=\"1\" class=\"dataframe\">\n",
       "  <thead>\n",
       "    <tr style=\"text-align: right;\">\n",
       "      <th></th>\n",
       "      <th>col1</th>\n",
       "      <th>col2</th>\n",
       "      <th>col3</th>\n",
       "      <th>col4</th>\n",
       "      <th>col5</th>\n",
       "      <th>col6</th>\n",
       "    </tr>\n",
       "  </thead>\n",
       "  <tbody>\n",
       "    <tr>\n",
       "      <th>A</th>\n",
       "      <td>-0.848435</td>\n",
       "      <td>0.098279</td>\n",
       "      <td>-1.612738</td>\n",
       "      <td>-0.139625</td>\n",
       "      <td>1.128534</td>\n",
       "      <td>NaN</td>\n",
       "    </tr>\n",
       "    <tr>\n",
       "      <th>B</th>\n",
       "      <td>1.260141</td>\n",
       "      <td>-1.170567</td>\n",
       "      <td>0.734517</td>\n",
       "      <td>0.727376</td>\n",
       "      <td>1.110049</td>\n",
       "      <td>NaN</td>\n",
       "    </tr>\n",
       "    <tr>\n",
       "      <th>C</th>\n",
       "      <td>NaN</td>\n",
       "      <td>NaN</td>\n",
       "      <td>NaN</td>\n",
       "      <td>NaN</td>\n",
       "      <td>NaN</td>\n",
       "      <td>NaN</td>\n",
       "    </tr>\n",
       "    <tr>\n",
       "      <th>D</th>\n",
       "      <td>1.598449</td>\n",
       "      <td>-0.595435</td>\n",
       "      <td>0.386497</td>\n",
       "      <td>0.004515</td>\n",
       "      <td>-0.725408</td>\n",
       "      <td>NaN</td>\n",
       "    </tr>\n",
       "    <tr>\n",
       "      <th>E</th>\n",
       "      <td>-0.187610</td>\n",
       "      <td>-0.480998</td>\n",
       "      <td>0.032021</td>\n",
       "      <td>0.344191</td>\n",
       "      <td>0.009113</td>\n",
       "      <td>NaN</td>\n",
       "    </tr>\n",
       "    <tr>\n",
       "      <th>F</th>\n",
       "      <td>-2.473886</td>\n",
       "      <td>0.493926</td>\n",
       "      <td>-0.476400</td>\n",
       "      <td>-0.143545</td>\n",
       "      <td>1.636465</td>\n",
       "      <td>NaN</td>\n",
       "    </tr>\n",
       "  </tbody>\n",
       "</table>\n",
       "</div>"
      ],
      "text/plain": [
       "       col1      col2      col3      col4      col5  col6\n",
       "A -0.848435  0.098279 -1.612738 -0.139625  1.128534   NaN\n",
       "B  1.260141 -1.170567  0.734517  0.727376  1.110049   NaN\n",
       "C       NaN       NaN       NaN       NaN       NaN   NaN\n",
       "D  1.598449 -0.595435  0.386497  0.004515 -0.725408   NaN\n",
       "E -0.187610 -0.480998  0.032021  0.344191  0.009113   NaN\n",
       "F -2.473886  0.493926 -0.476400 -0.143545  1.636465   NaN"
      ]
     },
     "execution_count": 27,
     "metadata": {},
     "output_type": "execute_result"
    }
   ],
   "source": [
    "# adding new columns and rows\n",
    "dframe.reindex(index=['A','B','C','D','E','F'], columns = new_columns)"
   ]
  },
  {
   "cell_type": "code",
   "execution_count": null,
   "id": "9b898b85-5330-4afb-81f4-b90dfdbb75c5",
   "metadata": {},
   "outputs": [],
   "source": []
  },
  {
   "cell_type": "code",
   "execution_count": null,
   "id": "d88b8546-d2f7-4356-9141-4b35ac6794cf",
   "metadata": {},
   "outputs": [],
   "source": []
  },
  {
   "cell_type": "code",
   "execution_count": null,
   "id": "2a0724ba-62e2-4716-9d8c-102d4188f0d5",
   "metadata": {},
   "outputs": [],
   "source": []
  }
 ],
 "metadata": {
  "kernelspec": {
   "display_name": "Python 3",
   "language": "python",
   "name": "python3"
  },
  "language_info": {
   "codemirror_mode": {
    "name": "ipython",
    "version": 3
   },
   "file_extension": ".py",
   "mimetype": "text/x-python",
   "name": "python",
   "nbconvert_exporter": "python",
   "pygments_lexer": "ipython3",
   "version": "3.8.8"
  }
 },
 "nbformat": 4,
 "nbformat_minor": 5
}
