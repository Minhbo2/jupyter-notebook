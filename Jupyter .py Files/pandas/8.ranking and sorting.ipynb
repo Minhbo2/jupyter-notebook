{
 "cells": [
  {
   "cell_type": "code",
   "execution_count": 1,
   "id": "a1a6672e-3e13-4915-81a2-d9d8f457e4a9",
   "metadata": {},
   "outputs": [],
   "source": [
    "import numpy as np\n",
    "import pandas as pd\n",
    "from pandas import Series, DataFrame\n",
    "\n",
    "from numpy.random import randn"
   ]
  },
  {
   "cell_type": "code",
   "execution_count": 2,
   "id": "b75d19f6-537c-4bda-9942-c48a5064e9a6",
   "metadata": {},
   "outputs": [
    {
     "data": {
      "text/plain": [
       "C    0\n",
       "A    1\n",
       "B    2\n",
       "dtype: int64"
      ]
     },
     "execution_count": 2,
     "metadata": {},
     "output_type": "execute_result"
    }
   ],
   "source": [
    "ser1 = Series(range(3), index=['C','A','B'])\n",
    "ser1"
   ]
  },
  {
   "cell_type": "code",
   "execution_count": 3,
   "id": "74027a2e-3946-4036-8532-f100124a2bb2",
   "metadata": {},
   "outputs": [
    {
     "data": {
      "text/plain": [
       "A    1\n",
       "B    2\n",
       "C    0\n",
       "dtype: int64"
      ]
     },
     "execution_count": 3,
     "metadata": {},
     "output_type": "execute_result"
    }
   ],
   "source": [
    "# sorting index\n",
    "ser1.sort_index()"
   ]
  },
  {
   "cell_type": "code",
   "execution_count": 5,
   "id": "14985f82-52dc-4ba8-a9f4-2b5639ff83a9",
   "metadata": {},
   "outputs": [
    {
     "data": {
      "text/plain": [
       "C    0\n",
       "A    1\n",
       "B    2\n",
       "dtype: int64"
      ]
     },
     "execution_count": 5,
     "metadata": {},
     "output_type": "execute_result"
    }
   ],
   "source": [
    "# sorting by values instead of index\n",
    "ser1.sort_values()"
   ]
  },
  {
   "cell_type": "code",
   "execution_count": 6,
   "id": "54b4a6a0-dcf5-4f4b-abed-22730c7c8dbe",
   "metadata": {},
   "outputs": [
    {
     "data": {
      "text/plain": [
       "0   -2.017270\n",
       "1    0.749331\n",
       "2    0.845111\n",
       "3   -1.392505\n",
       "4    0.569481\n",
       "5   -0.050710\n",
       "6    0.510302\n",
       "7    0.014013\n",
       "8   -0.370077\n",
       "9   -0.494964\n",
       "dtype: float64"
      ]
     },
     "execution_count": 6,
     "metadata": {},
     "output_type": "execute_result"
    }
   ],
   "source": [
    "ser2 = Series(randn(10))\n",
    "ser2"
   ]
  },
  {
   "cell_type": "code",
   "execution_count": 7,
   "id": "915dc42e-d0d7-4783-a7a4-8af0f723c94c",
   "metadata": {},
   "outputs": [
    {
     "data": {
      "text/plain": [
       "0   -2.017270\n",
       "3   -1.392505\n",
       "9   -0.494964\n",
       "8   -0.370077\n",
       "5   -0.050710\n",
       "7    0.014013\n",
       "6    0.510302\n",
       "4    0.569481\n",
       "1    0.749331\n",
       "2    0.845111\n",
       "dtype: float64"
      ]
     },
     "execution_count": 7,
     "metadata": {},
     "output_type": "execute_result"
    }
   ],
   "source": [
    "ser2.sort_values()"
   ]
  },
  {
   "cell_type": "code",
   "execution_count": 8,
   "id": "9928410a-a5c5-42e7-8c1a-ca57c8e909d5",
   "metadata": {},
   "outputs": [
    {
     "data": {
      "text/plain": [
       "0     1.0\n",
       "1     9.0\n",
       "2    10.0\n",
       "3     2.0\n",
       "4     8.0\n",
       "5     5.0\n",
       "6     7.0\n",
       "7     6.0\n",
       "8     4.0\n",
       "9     3.0\n",
       "dtype: float64"
      ]
     },
     "execution_count": 8,
     "metadata": {},
     "output_type": "execute_result"
    }
   ],
   "source": [
    "# to get the actual value ranking of each index,sorting sort by ranking\n",
    "ser2.rank()"
   ]
  },
  {
   "cell_type": "code",
   "execution_count": null,
   "id": "0eb5699d-a09d-4bb3-87d8-223aff578a67",
   "metadata": {},
   "outputs": [],
   "source": []
  },
  {
   "cell_type": "code",
   "execution_count": null,
   "id": "0e7111dc-3436-4172-847f-bb02d7d63299",
   "metadata": {},
   "outputs": [],
   "source": []
  },
  {
   "cell_type": "code",
   "execution_count": null,
   "id": "e347a9b5-b2b5-43cb-8f09-541ddffc88ef",
   "metadata": {},
   "outputs": [],
   "source": []
  }
 ],
 "metadata": {
  "kernelspec": {
   "display_name": "Python 3",
   "language": "python",
   "name": "python3"
  },
  "language_info": {
   "codemirror_mode": {
    "name": "ipython",
    "version": 3
   },
   "file_extension": ".py",
   "mimetype": "text/x-python",
   "name": "python",
   "nbconvert_exporter": "python",
   "pygments_lexer": "ipython3",
   "version": "3.8.8"
  }
 },
 "nbformat": 4,
 "nbformat_minor": 5
}
