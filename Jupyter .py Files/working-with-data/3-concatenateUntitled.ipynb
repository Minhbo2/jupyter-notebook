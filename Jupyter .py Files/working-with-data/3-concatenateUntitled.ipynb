{
 "cells": [
  {
   "cell_type": "code",
   "execution_count": 2,
   "id": "415bd2c2-d1d4-4909-9ce3-4b6a4008ca5c",
   "metadata": {},
   "outputs": [],
   "source": [
    "import numpy as np\n",
    "import pandas as pd\n",
    "from pandas import Series, DataFrame"
   ]
  },
  {
   "cell_type": "code",
   "execution_count": 4,
   "id": "32fcafc2-ef4a-4354-9bc2-4471ed6ecbc5",
   "metadata": {},
   "outputs": [
    {
     "data": {
      "text/plain": [
       "array([[0, 1, 2],\n",
       "       [3, 4, 5],\n",
       "       [6, 7, 8]])"
      ]
     },
     "execution_count": 4,
     "metadata": {},
     "output_type": "execute_result"
    }
   ],
   "source": [
    "arr1=np.arange(9).reshape(3,3)\n",
    "arr1"
   ]
  },
  {
   "cell_type": "code",
   "execution_count": 5,
   "id": "f66b7606-fc5b-46d0-85ed-f4a5c6bb4a48",
   "metadata": {},
   "outputs": [
    {
     "data": {
      "text/plain": [
       "array([[0, 1, 2, 0, 1, 2],\n",
       "       [3, 4, 5, 3, 4, 5],\n",
       "       [6, 7, 8, 6, 7, 8]])"
      ]
     },
     "execution_count": 5,
     "metadata": {},
     "output_type": "execute_result"
    }
   ],
   "source": [
    "# concatenate along the x axis in np\n",
    "np.concatenate([arr1,arr1],axis=1)"
   ]
  },
  {
   "cell_type": "code",
   "execution_count": 6,
   "id": "ead8f9e2-6801-487a-8382-a1c6259897b4",
   "metadata": {},
   "outputs": [
    {
     "data": {
      "text/plain": [
       "array([[0, 1, 2],\n",
       "       [3, 4, 5],\n",
       "       [6, 7, 8],\n",
       "       [0, 1, 2],\n",
       "       [3, 4, 5],\n",
       "       [6, 7, 8]])"
      ]
     },
     "execution_count": 6,
     "metadata": {},
     "output_type": "execute_result"
    }
   ],
   "source": [
    "# concatenate along the y axis in np\n",
    "np.concatenate([arr1,arr1],axis=0)"
   ]
  },
  {
   "cell_type": "code",
   "execution_count": 13,
   "id": "c2b60ada-a83a-4f6c-8f6a-2b564840608a",
   "metadata": {},
   "outputs": [],
   "source": [
    "ser1 = Series([0,1,2], index = ['T','U','V'])\n",
    "\n",
    "ser2 = Series([3,4],index=['X','Y'])"
   ]
  },
  {
   "cell_type": "code",
   "execution_count": 15,
   "id": "a1fb3b4a-4d4b-448c-914e-c62337cf88c3",
   "metadata": {},
   "outputs": [
    {
     "data": {
      "text/plain": [
       "T    0\n",
       "U    1\n",
       "V    2\n",
       "X    3\n",
       "Y    4\n",
       "dtype: int64"
      ]
     },
     "execution_count": 15,
     "metadata": {},
     "output_type": "execute_result"
    }
   ],
   "source": [
    "# concatenate in pd, default along the y axis\n",
    "pd.concat([ser1,ser2])"
   ]
  },
  {
   "cell_type": "code",
   "execution_count": 18,
   "id": "4f8f1a09-4855-44ff-b5e3-b42bc41ea2af",
   "metadata": {},
   "outputs": [
    {
     "data": {
      "text/html": [
       "<div>\n",
       "<style scoped>\n",
       "    .dataframe tbody tr th:only-of-type {\n",
       "        vertical-align: middle;\n",
       "    }\n",
       "\n",
       "    .dataframe tbody tr th {\n",
       "        vertical-align: top;\n",
       "    }\n",
       "\n",
       "    .dataframe thead th {\n",
       "        text-align: right;\n",
       "    }\n",
       "</style>\n",
       "<table border=\"1\" class=\"dataframe\">\n",
       "  <thead>\n",
       "    <tr style=\"text-align: right;\">\n",
       "      <th></th>\n",
       "      <th>0</th>\n",
       "      <th>1</th>\n",
       "    </tr>\n",
       "  </thead>\n",
       "  <tbody>\n",
       "    <tr>\n",
       "      <th>T</th>\n",
       "      <td>0.0</td>\n",
       "      <td>NaN</td>\n",
       "    </tr>\n",
       "    <tr>\n",
       "      <th>U</th>\n",
       "      <td>1.0</td>\n",
       "      <td>NaN</td>\n",
       "    </tr>\n",
       "    <tr>\n",
       "      <th>V</th>\n",
       "      <td>2.0</td>\n",
       "      <td>NaN</td>\n",
       "    </tr>\n",
       "    <tr>\n",
       "      <th>X</th>\n",
       "      <td>NaN</td>\n",
       "      <td>3.0</td>\n",
       "    </tr>\n",
       "    <tr>\n",
       "      <th>Y</th>\n",
       "      <td>NaN</td>\n",
       "      <td>4.0</td>\n",
       "    </tr>\n",
       "  </tbody>\n",
       "</table>\n",
       "</div>"
      ],
      "text/plain": [
       "     0    1\n",
       "T  0.0  NaN\n",
       "U  1.0  NaN\n",
       "V  2.0  NaN\n",
       "X  NaN  3.0\n",
       "Y  NaN  4.0"
      ]
     },
     "execution_count": 18,
     "metadata": {},
     "output_type": "execute_result"
    }
   ],
   "source": [
    "# pd concatenate and specify the axis, example below is x axis, return NaN when value is missing from either table\n",
    "# notice concat along x axis returned a DataFrame and not a Series as above example\n",
    "pd.concat([ser1,ser2],axis=1)"
   ]
  },
  {
   "cell_type": "code",
   "execution_count": 19,
   "id": "f2f709c0-1172-4e70-a246-22ac5a8d8b27",
   "metadata": {},
   "outputs": [
    {
     "data": {
      "text/plain": [
       "cat1  T    0\n",
       "      U    1\n",
       "      V    2\n",
       "cat2  X    3\n",
       "      Y    4\n",
       "dtype: int64"
      ]
     },
     "execution_count": 19,
     "metadata": {},
     "output_type": "execute_result"
    }
   ],
   "source": [
    "# adding keys/label to the concat Series, labeling them through a hierachial index\n",
    "pd.concat([ser1,ser2],keys=['cat1','cat2'])"
   ]
  },
  {
   "cell_type": "markdown",
   "id": "26578664-7b74-4566-9ed3-f67a0a75b6ee",
   "metadata": {},
   "source": [
    "# concate using DataFrame"
   ]
  },
  {
   "cell_type": "code",
   "execution_count": 20,
   "id": "407aab4d-ea8e-420f-a05e-10dd275ff475",
   "metadata": {},
   "outputs": [],
   "source": [
    " dframe1 = DataFrame(np.random.randn(4,3), columns=['X','Y','Z'])\n",
    " dframe2 = DataFrame(np.random.randn(3,3), columns=['Y','Q','X'])    "
   ]
  },
  {
   "cell_type": "code",
   "execution_count": 21,
   "id": "89784c24-4e48-4903-8101-dd544ec9bbed",
   "metadata": {},
   "outputs": [
    {
     "data": {
      "text/html": [
       "<div>\n",
       "<style scoped>\n",
       "    .dataframe tbody tr th:only-of-type {\n",
       "        vertical-align: middle;\n",
       "    }\n",
       "\n",
       "    .dataframe tbody tr th {\n",
       "        vertical-align: top;\n",
       "    }\n",
       "\n",
       "    .dataframe thead th {\n",
       "        text-align: right;\n",
       "    }\n",
       "</style>\n",
       "<table border=\"1\" class=\"dataframe\">\n",
       "  <thead>\n",
       "    <tr style=\"text-align: right;\">\n",
       "      <th></th>\n",
       "      <th>X</th>\n",
       "      <th>Y</th>\n",
       "      <th>Z</th>\n",
       "      <th>Q</th>\n",
       "    </tr>\n",
       "  </thead>\n",
       "  <tbody>\n",
       "    <tr>\n",
       "      <th>0</th>\n",
       "      <td>1.884726</td>\n",
       "      <td>-0.480048</td>\n",
       "      <td>-1.286268</td>\n",
       "      <td>NaN</td>\n",
       "    </tr>\n",
       "    <tr>\n",
       "      <th>1</th>\n",
       "      <td>1.143598</td>\n",
       "      <td>0.042307</td>\n",
       "      <td>1.336903</td>\n",
       "      <td>NaN</td>\n",
       "    </tr>\n",
       "    <tr>\n",
       "      <th>2</th>\n",
       "      <td>-0.310401</td>\n",
       "      <td>1.429759</td>\n",
       "      <td>0.324962</td>\n",
       "      <td>NaN</td>\n",
       "    </tr>\n",
       "    <tr>\n",
       "      <th>3</th>\n",
       "      <td>-1.457619</td>\n",
       "      <td>0.696265</td>\n",
       "      <td>-0.452802</td>\n",
       "      <td>NaN</td>\n",
       "    </tr>\n",
       "    <tr>\n",
       "      <th>0</th>\n",
       "      <td>1.747210</td>\n",
       "      <td>1.714861</td>\n",
       "      <td>NaN</td>\n",
       "      <td>1.678251</td>\n",
       "    </tr>\n",
       "    <tr>\n",
       "      <th>1</th>\n",
       "      <td>-0.987371</td>\n",
       "      <td>0.310272</td>\n",
       "      <td>NaN</td>\n",
       "      <td>-0.172742</td>\n",
       "    </tr>\n",
       "    <tr>\n",
       "      <th>2</th>\n",
       "      <td>-0.671606</td>\n",
       "      <td>0.856673</td>\n",
       "      <td>NaN</td>\n",
       "      <td>2.820751</td>\n",
       "    </tr>\n",
       "  </tbody>\n",
       "</table>\n",
       "</div>"
      ],
      "text/plain": [
       "          X         Y         Z         Q\n",
       "0  1.884726 -0.480048 -1.286268       NaN\n",
       "1  1.143598  0.042307  1.336903       NaN\n",
       "2 -0.310401  1.429759  0.324962       NaN\n",
       "3 -1.457619  0.696265 -0.452802       NaN\n",
       "0  1.747210  1.714861       NaN  1.678251\n",
       "1 -0.987371  0.310272       NaN -0.172742\n",
       "2 -0.671606  0.856673       NaN  2.820751"
      ]
     },
     "execution_count": 21,
     "metadata": {},
     "output_type": "execute_result"
    }
   ],
   "source": [
    "# return NaN for key values not in one of the table\n",
    "# also notice the order of the indexes are not in order\n",
    "pd.concat([dframe1,dframe2])"
   ]
  },
  {
   "cell_type": "code",
   "execution_count": 22,
   "id": "c0fcaa83-3dd5-4a6e-b0d7-b6b08a6061ed",
   "metadata": {},
   "outputs": [
    {
     "data": {
      "text/html": [
       "<div>\n",
       "<style scoped>\n",
       "    .dataframe tbody tr th:only-of-type {\n",
       "        vertical-align: middle;\n",
       "    }\n",
       "\n",
       "    .dataframe tbody tr th {\n",
       "        vertical-align: top;\n",
       "    }\n",
       "\n",
       "    .dataframe thead th {\n",
       "        text-align: right;\n",
       "    }\n",
       "</style>\n",
       "<table border=\"1\" class=\"dataframe\">\n",
       "  <thead>\n",
       "    <tr style=\"text-align: right;\">\n",
       "      <th></th>\n",
       "      <th>X</th>\n",
       "      <th>Y</th>\n",
       "      <th>Z</th>\n",
       "      <th>Q</th>\n",
       "    </tr>\n",
       "  </thead>\n",
       "  <tbody>\n",
       "    <tr>\n",
       "      <th>0</th>\n",
       "      <td>1.884726</td>\n",
       "      <td>-0.480048</td>\n",
       "      <td>-1.286268</td>\n",
       "      <td>NaN</td>\n",
       "    </tr>\n",
       "    <tr>\n",
       "      <th>1</th>\n",
       "      <td>1.143598</td>\n",
       "      <td>0.042307</td>\n",
       "      <td>1.336903</td>\n",
       "      <td>NaN</td>\n",
       "    </tr>\n",
       "    <tr>\n",
       "      <th>2</th>\n",
       "      <td>-0.310401</td>\n",
       "      <td>1.429759</td>\n",
       "      <td>0.324962</td>\n",
       "      <td>NaN</td>\n",
       "    </tr>\n",
       "    <tr>\n",
       "      <th>3</th>\n",
       "      <td>-1.457619</td>\n",
       "      <td>0.696265</td>\n",
       "      <td>-0.452802</td>\n",
       "      <td>NaN</td>\n",
       "    </tr>\n",
       "    <tr>\n",
       "      <th>4</th>\n",
       "      <td>1.747210</td>\n",
       "      <td>1.714861</td>\n",
       "      <td>NaN</td>\n",
       "      <td>1.678251</td>\n",
       "    </tr>\n",
       "    <tr>\n",
       "      <th>5</th>\n",
       "      <td>-0.987371</td>\n",
       "      <td>0.310272</td>\n",
       "      <td>NaN</td>\n",
       "      <td>-0.172742</td>\n",
       "    </tr>\n",
       "    <tr>\n",
       "      <th>6</th>\n",
       "      <td>-0.671606</td>\n",
       "      <td>0.856673</td>\n",
       "      <td>NaN</td>\n",
       "      <td>2.820751</td>\n",
       "    </tr>\n",
       "  </tbody>\n",
       "</table>\n",
       "</div>"
      ],
      "text/plain": [
       "          X         Y         Z         Q\n",
       "0  1.884726 -0.480048 -1.286268       NaN\n",
       "1  1.143598  0.042307  1.336903       NaN\n",
       "2 -0.310401  1.429759  0.324962       NaN\n",
       "3 -1.457619  0.696265 -0.452802       NaN\n",
       "4  1.747210  1.714861       NaN  1.678251\n",
       "5 -0.987371  0.310272       NaN -0.172742\n",
       "6 -0.671606  0.856673       NaN  2.820751"
      ]
     },
     "execution_count": 22,
     "metadata": {},
     "output_type": "execute_result"
    }
   ],
   "source": [
    "# to \"ignore\" the unordered indexes, use arguement ignore_index=True\n",
    "pd.concat([dframe1,dframe2], ignore_index=True)"
   ]
  },
  {
   "cell_type": "code",
   "execution_count": null,
   "id": "7cfd0860-d7bf-4d87-b7f7-267498bafd47",
   "metadata": {},
   "outputs": [],
   "source": [
    "#  more information on concatenate\n",
    "url = 'https://pandas.pydata.org/docs/reference/api/pandas.concat.html'"
   ]
  },
  {
   "cell_type": "code",
   "execution_count": null,
   "id": "91a9de3d-87a7-4c74-ab15-1ef0ead52169",
   "metadata": {},
   "outputs": [],
   "source": []
  },
  {
   "cell_type": "code",
   "execution_count": null,
   "id": "53fdd0df-a5eb-4389-84c9-35019225c0fe",
   "metadata": {},
   "outputs": [],
   "source": []
  },
  {
   "cell_type": "code",
   "execution_count": null,
   "id": "cc64b9f2-47ea-43e1-ab70-5658759563bf",
   "metadata": {},
   "outputs": [],
   "source": []
  }
 ],
 "metadata": {
  "kernelspec": {
   "display_name": "Python 3",
   "language": "python",
   "name": "python3"
  },
  "language_info": {
   "codemirror_mode": {
    "name": "ipython",
    "version": 3
   },
   "file_extension": ".py",
   "mimetype": "text/x-python",
   "name": "python",
   "nbconvert_exporter": "python",
   "pygments_lexer": "ipython3",
   "version": "3.8.8"
  }
 },
 "nbformat": 4,
 "nbformat_minor": 5
}
